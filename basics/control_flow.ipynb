{
 "cells": [
  {
   "cell_type": "markdown",
   "metadata": {},
   "source": [
    "# Control Flow\n",
    "\n",
    "Control flow allows us to build programs that react to some pre-determined condition. For example, what happens when a user logs in with the correct credentials? What if they don't give valid credentials?\n",
    "\n",
    "This notebook covers the basic tools to writing conditional statements in Python. It follows Chapter 3 in [Python for Everyone](https://www.py4e.com/html3/03-conditional) by Charles Severance along with my own examples.\n",
    "\n",
    "## Boolean Expressions\n",
    "\n",
    "A boolean expression evaluates to either `True` or `False`. This type of expression would be used to check status codes or to check if a user has entered the correct password, for example."
   ]
  },
  {
   "cell_type": "code",
   "execution_count": 10,
   "metadata": {},
   "outputs": [
    {
     "name": "stdout",
     "output_type": "stream",
     "text": [
      "1==1 is True\n",
      "1==2 is False\n"
     ]
    }
   ],
   "source": [
    "print(\"1==1 is {}\".format(1==1))\n",
    "print(\"1==2 is {}\".format(1==2))"
   ]
  },
  {
   "cell_type": "markdown",
   "metadata": {},
   "source": [
    "Operators like `==` are called *relational operators* and they compare two operands and return either `True` or `False`. Other relational operators include:\n",
    "\n",
    "```python\n",
    "x != y # x is not equal to y\n",
    "x > y # x is greater than y\n",
    "x < y # x is less than y\n",
    "x >= y # x is greater than or equal to y\n",
    "x <= y # x is less than or equal to y\n",
    "x is y # x is the same as y\n",
    "x is not y # x is not the same as y\n",
    "```\n",
    "\n",
    "The last two operators, `is` and `is not`, are used to check if two variables are referencing the same object. The fact that the operands must be *objects* is important here. You should avoid comparing a value with a variable. Python will let you do this, but it will also output a warning.\n",
    "\n",
    "```python\n",
    "x = 5\n",
    "y = 5\n",
    "x is y # True\n",
    "x is 5 # True, but not recommended\n",
    "x is not 5 # False, but not recommended\n",
    "```"
   ]
  },
  {
   "cell_type": "code",
   "execution_count": 15,
   "metadata": {},
   "outputs": [
    {
     "name": "stderr",
     "output_type": "stream",
     "text": [
      "<>:3: SyntaxWarning: \"is\" with a literal. Did you mean \"==\"?\n",
      "<>:3: SyntaxWarning: \"is\" with a literal. Did you mean \"==\"?\n",
      "/var/folders/vd/wbzsx0g538nfr96xq81fp7k40000gn/T/ipykernel_24914/759655086.py:3: SyntaxWarning: \"is\" with a literal. Did you mean \"==\"?\n",
      "  x is 5\n"
     ]
    },
    {
     "data": {
      "text/plain": [
       "True"
      ]
     },
     "execution_count": 15,
     "metadata": {},
     "output_type": "execute_result"
    }
   ],
   "source": [
    "x = 5\n",
    "y = 10\n",
    "x is 5"
   ]
  },
  {
   "cell_type": "markdown",
   "metadata": {},
   "source": [
    "Python includes three logical operators that are verbose compared to other languages.\n",
    "\n",
    "```python\n",
    "x and y # True if both x and y are True\n",
    "x or y # True if either x or y are True\n",
    "not x # True if x is False\n",
    "```"
   ]
  },
  {
   "cell_type": "code",
   "execution_count": 18,
   "metadata": {},
   "outputs": [
    {
     "name": "stdout",
     "output_type": "stream",
     "text": [
      "FizzBuzz\n",
      "Fizz\n",
      "Buzz\n"
     ]
    }
   ],
   "source": [
    "# Example: FizzBuzz\n",
    "# Consider two possible solutions to the FizzBuzz problem\n",
    "\n",
    "# Solution 1\n",
    "n = 15\n",
    "if not n % 3 and not n % 5:\n",
    "    print(\"FizzBuzz\")\n",
    "\n",
    "# Solution 2\n",
    "n = 15\n",
    "if n % 3 == 0:\n",
    "    print(\"Fizz\")\n",
    "if n % 5 == 0:\n",
    "    print(\"Buzz\")"
   ]
  },
  {
   "cell_type": "markdown",
   "metadata": {},
   "source": [
    "In the second solution, the output was separated to two separate lines since the `print` function automatically adds a newline. We can change this behavior by adding a second argument to the `print` function."
   ]
  },
  {
   "cell_type": "code",
   "execution_count": 21,
   "metadata": {},
   "outputs": [
    {
     "name": "stdout",
     "output_type": "stream",
     "text": [
      "FizzBuzz\n"
     ]
    }
   ],
   "source": [
    "n = 15\n",
    "if n % 3 == 0:\n",
    "    print(\"Fizz\", end=\"\")\n",
    "if n % 5 == 0:\n",
    "    print(\"Buzz\")"
   ]
  },
  {
   "cell_type": "markdown",
   "metadata": {},
   "source": [
    "## Conditional Execution\n",
    "\n",
    "We have already used a key conditional execution tool: the `if` statement. The `if` statement allows us to execute a block of code if a condition is met. The general syntax is:\n",
    "\n",
    "```python\n",
    "if condition:\n",
    "    # code to execute if condition is True\n",
    "```\n",
    "\n",
    "Also note that Python is particular about indentation. The code that is executed if the condition is met must be indented. The standard is to use four spaces for each level of indentation.\n",
    "\n",
    "We can also chain conditional statements together using `elif` and `else`. The `elif` statement is short for \"else if\" and allows us to check another condition if the previous condition was not met. The `else` statement is used to execute code if none of the previous conditions were met. The general syntax is:\n",
    "\n",
    "```python\n",
    "if condition:\n",
    "    # code to execute if condition is True\n",
    "elif condition:\n",
    "    # code to execute if the first condition is False and this condition is True\n",
    "else:\n",
    "    # code to execute if all other conditions are False\n",
    "```\n",
    "\n",
    "### Switch Statements\n",
    "\n",
    "Until version 3.10, Python did not have a `switch` statement. This is a conditional statement that allows us to check a variable against a series of values.\n",
    "\n",
    "With version 3.10 comes the `match` statement. This statement is similar to the `switch` statement in other languages. The general syntax is:\n",
    "\n",
    "```python\n",
    "match variable:\n",
    "    case value1:\n",
    "        # code to execute if variable == value1\n",
    "    case value2:\n",
    "        # code to execute if variable == value2\n",
    "    case value3:\n",
    "        # code to execute if variable == value3\n",
    "    case _:\n",
    "        # code to execute if none of the previous conditions were met\n",
    "```"
   ]
  },
  {
   "cell_type": "code",
   "execution_count": 23,
   "metadata": {},
   "outputs": [
    {
     "name": "stdout",
     "output_type": "stream",
     "text": [
      "You like something else!\n"
     ]
    }
   ],
   "source": [
    "language = input(\"What is your favorite programming language? \")\n",
    "\n",
    "match language:\n",
    "    case \"Python\":\n",
    "        print(\"You're in the right place.\")\n",
    "    case \"Java\":\n",
    "        print(\"Do you despise C++ as much as the creator of Java?\")\n",
    "    case \"C++\":\n",
    "        print(\"You probably like game development.\")\n",
    "    case \"C\":\n",
    "        print(\"Speed is your thing.\")\n",
    "    case _:\n",
    "        print(\"You like something else!\")"
   ]
  },
  {
   "cell_type": "markdown",
   "metadata": {},
   "source": [
    "Unlike other languages that implement a `switch` statement, Python's `match` statement does not have a `break` statement. We can still utilize fall-through behavior by including multiple values in a single case separated by `|`.\n",
    "\n",
    "```python\n",
    "match variable:\n",
    "    case value1 | value2:\n",
    "        # code to execute if variable == value1 or variable == value2\n",
    "    case value3:\n",
    "        # code to execute if variable == value3\n",
    "    case _:\n",
    "        # code to execute if none of the previous conditions were met\n",
    "```"
   ]
  },
  {
   "cell_type": "code",
   "execution_count": 1,
   "metadata": {},
   "outputs": [
    {
     "name": "stdout",
     "output_type": "stream",
     "text": [
      "You like something else!\n"
     ]
    }
   ],
   "source": [
    "language = input(\"What is your favorite programming language? \")\n",
    "\n",
    "match language:\n",
    "    case \"Python\" | \"python\":\n",
    "        print(\"You're in the right place.\")\n",
    "    case \"Java\":\n",
    "        print(\"Do you despise C++ as much as the creator of Java?\")\n",
    "    case \"C++\":\n",
    "        print(\"You probably like game development.\")\n",
    "    case \"C\":\n",
    "        print(\"Speed is your thing.\")\n",
    "    case _:\n",
    "        print(\"You like something else!\")"
   ]
  },
  {
   "cell_type": "markdown",
   "metadata": {},
   "source": [
    "## Iterations\n",
    "\n",
    "Iterations allow us to execute a block of code multiple times. This is useful for iterating over a list of items or for executing a block of code until a condition is met.\n",
    "\n",
    "Python supports both a `while` loop and a `for` loop. The `while` loop will execute a block of code until a condition is met. The `for` loop will iterate over a sequence of items.\n",
    "\n",
    "### For Loops\n",
    "\n",
    "As opposed to something like C, Python's `for` loop is more like a `foreach` loop. The `for` loop will iterate over a sequence of items. The general syntax is:\n",
    "\n",
    "```python\n",
    "for item in sequence:\n",
    "    # code to execute for each item in the sequence\n",
    "```\n",
    "\n",
    "It is commonly used with the `range` function to iterate over a sequence of numbers. The `range` function takes three arguments: `start`, `stop`, and `step`. The `start` argument is the first number in the sequence. The `stop` argument is the last number in the sequence. The `step` argument is the amount to increment the sequence by. The `step` argument is optional and defaults to `1`. The `stop` argument is required. The `start` argument is optional and defaults to `0`.\n",
    "\n",
    "```python\n",
    "for i in range(5):\n",
    "    print(i)\n",
    "```\n",
    "\n",
    "### While Loops\n",
    "\n",
    "The `while` loop will execute a block of code until a condition is met. The general syntax is:\n",
    "\n",
    "```python\n",
    "while condition:\n",
    "    # code to execute while condition is True\n",
    "```\n"
   ]
  },
  {
   "cell_type": "markdown",
   "metadata": {},
   "source": [
    "## Lists\n",
    "\n",
    "Lists are a sequence of values. They are similar to arrays in other languages. The values in a list are called *elements* or *items*. Lists are mutable, meaning that we can change the values in a list. Lists are also ordered, meaning that the order of the elements in a list is important.\n",
    "\n",
    "We can create a list by separating the elements with commas and surrounding the list with square brackets.\n",
    "\n",
    "```python\n",
    "numbers = [1, 2, 3, 4, 5]\n",
    "```"
   ]
  },
  {
   "cell_type": "code",
   "execution_count": 3,
   "metadata": {},
   "outputs": [],
   "source": [
    "numbers = [1, 2, 3, 4, 5, 6, 7, 8, 9]\n",
    "names = [\"Naomi\", \"Bobbie\", \"James\", \"Amos\", \"Chrisjen\", \"Alex\", \"Clarissa\"]\n",
    "names_and_numbers = [\"Naomi\", 5, \"Bobbie\", 7, \"James\", 9, \"Amos\", 11, \"Chrisjen\", 13, \"Alex\", 15, \"Clarissa\", 17]\n",
    "\n",
    "# We can even include lists in our lists\n",
    "nested_list = [[1, 2, 3], [4, 5, 6], [7, 8, 9]]"
   ]
  },
  {
   "cell_type": "markdown",
   "metadata": {},
   "source": [
    "### Iterating Over Lists\n",
    "\n",
    "We can iterate over a list using a `for` loop. The `for` loop will iterate over each element in the list. The general syntax is:\n",
    "\n",
    "```python\n",
    "for item in list:\n",
    "    # code to execute for each item in the list\n",
    "```\n",
    "\n",
    "If the list contains tuples, we can use tuple unpacking to assign the values in the tuple to multiple variables.\n",
    "\n",
    "```python\n",
    "numbers = [(1, 2), (3, 4), (5, 6)]\n",
    "for x, y in numbers:\n",
    "    print(x, y)\n",
    "```\n",
    "\n",
    "### Combining Lists with `zip`\n",
    "\n",
    "The `zip` function allows us to combine two lists into a single list of tuples. The first element in the first list will be paired with the first element in the second list, the second element in the first list will be paired with the second element in the second list, and so on. The general syntax is:\n",
    "\n",
    "```python\n",
    "user_ids = [1, 2, 3]\n",
    "usernames = ['alice', 'bob', 'charlie']\n",
    "users = zip(user_ids, usernames)\n",
    "```"
   ]
  },
  {
   "cell_type": "code",
   "execution_count": 4,
   "metadata": {},
   "outputs": [
    {
     "name": "stdout",
     "output_type": "stream",
     "text": [
      "(1, 'Naomi')\n",
      "(2, 'Bobbie')\n",
      "(3, 'James')\n",
      "(4, 'Amos')\n",
      "(5, 'Chrisjen')\n"
     ]
    }
   ],
   "source": [
    "user_ids = [1, 2, 3, 4, 5]\n",
    "user_names = [\"Naomi\", \"Bobbie\", \"James\", \"Amos\", \"Chrisjen\"]\n",
    "\n",
    "# We can combine these lists into a single list of tuples\n",
    "user_ids_and_names = zip(user_ids, user_names)\n",
    "\n",
    "# We can also convert the zip object into a list\n",
    "user_ids_and_names = list(user_ids_and_names)\n",
    "\n",
    "for users in user_ids_and_names:\n",
    "    print(users)"
   ]
  }
 ],
 "metadata": {
  "kernelspec": {
   "display_name": "cse4310",
   "language": "python",
   "name": "python3"
  },
  "language_info": {
   "codemirror_mode": {
    "name": "ipython",
    "version": 3
   },
   "file_extension": ".py",
   "mimetype": "text/x-python",
   "name": "python",
   "nbconvert_exporter": "python",
   "pygments_lexer": "ipython3",
   "version": "3.11.3"
  },
  "orig_nbformat": 4
 },
 "nbformat": 4,
 "nbformat_minor": 2
}
