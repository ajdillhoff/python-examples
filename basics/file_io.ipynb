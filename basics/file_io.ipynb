{
 "cells": [
  {
   "cell_type": "markdown",
   "metadata": {},
   "source": [
    "# File I/O in Python\n",
    "\n",
    "This notebook will cover the following topics:\n",
    "\n",
    "1. Opening and closing files\n",
    "2. Reading and writing text files\n",
    "3. Reading and writing binary files\n",
    "4. Using the `with` statement\n",
    "5. Using the `pickle` module\n",
    "6. Serializing objects with `pickle`\n",
    "7. Reading and writing JSON files\n",
    "\n",
    "## Opening and closing files\n",
    "\n",
    "Let's start with the basics. To open a file, we use the built-in `open()` function. The `open()` function takes two arguments: the name of the file to open and the mode in which to open it. The mode can be one of the following:\n",
    "\n",
    "* `'r'` - open for reading (default)\n",
    "* `'w'` - open for writing, truncating the file first\n",
    "* `'x'` - open for exclusive creation, failing if the file already exists\n",
    "* `'a'` - open for writing, appending to the end of the file if it exists\n",
    "* `'b'` - binary mode\n",
    "* `'t'` - text mode (default)\n",
    "* `'+'` - open a disk file for updating (reading and writing)\n",
    "\n",
    "To make this tutorial more interesting, let's create a purpose for our code. Our goal is to create a logging system for players and their rolls. Every time a player rolls, we will add it to our log. We will also add a timestamp to each roll. We will store the log in a file called `log.txt`."
   ]
  },
  {
   "cell_type": "code",
   "execution_count": 4,
   "metadata": {},
   "outputs": [],
   "source": [
    "import random\n",
    "import datetime\n",
    "\n",
    "# First, we'll open a file\n",
    "fp = open(\"log.txt\", \"w\")\n",
    "\n",
    "# Let's create a list of players\n",
    "players = [\"Naomi\", \"James\", \"Amos\", \"Bobbie\"]\n",
    "\n",
    "# Let's roll a d20 for each player and write it in the log, including a timestamp\n",
    "for player in players:\n",
    "    roll = random.randint(1, 20)\n",
    "    timestamp = datetime.datetime.now()\n",
    "    fp.write(f\"{timestamp} - {player} rolled a {roll}\\n\")\n",
    "\n",
    "# Finally, let's close the file\n",
    "fp.close()"
   ]
  },
  {
   "cell_type": "markdown",
   "metadata": {},
   "source": [
    "It isn't recommended to open and close the file manually like this. Instead, we will use the `with` statement. This will ensure that the file is closed properly even if an exception is raised.\n",
    "\n",
    "Additionally, it is possible that calling `write` without using `with` will not write to the file immediately. Instead, it will be buffered and written later. Using `with` will ensure that the file is written to immediately.\n",
    "\n",
    "```python\n",
    "import datetime\n",
    "\n",
    "with open('log.txt', 'a') as f:\n",
    "    f.write(f'{datetime.datetime.now()}: {player} rolled {roll}\\n')\n",
    "```\n",
    "\n",
    "## Reading and writing binary files\n",
    "\n",
    "For the next example, we will write the user's rolls as binary. Each user will get their own file so that we can easily read their rolls later."
   ]
  },
  {
   "cell_type": "code",
   "execution_count": 8,
   "metadata": {},
   "outputs": [
    {
     "name": "stdout",
     "output_type": "stream",
     "text": [
      "Naomi [3, 16, 8, 7, 10]\n",
      "James [1, 12, 18, 6, 3]\n",
      "Amos [13, 8, 12, 14, 2]\n",
      "Bobbie [7, 11, 19, 4, 12]\n"
     ]
    }
   ],
   "source": [
    "for player in players:\n",
    "    rolls = [random.randint(1, 20) for _ in range(5)]\n",
    "    with open(\"rolls/\" + player + \".bin\", \"wb\") as fp:\n",
    "        fp.write(bytes(rolls))\n",
    "\n",
    "# To verify, let's open the files and print the contents\n",
    "for player in players:\n",
    "    with open(\"rolls/\" + player + \".bin\", \"rb\") as fp:\n",
    "        print(player, list(fp.read()))"
   ]
  }
 ],
 "metadata": {
  "kernelspec": {
   "display_name": "cse6363",
   "language": "python",
   "name": "python3"
  },
  "language_info": {
   "codemirror_mode": {
    "name": "ipython",
    "version": 3
   },
   "file_extension": ".py",
   "mimetype": "text/x-python",
   "name": "python",
   "nbconvert_exporter": "python",
   "pygments_lexer": "ipython3",
   "version": "3.11.3"
  },
  "orig_nbformat": 4
 },
 "nbformat": 4,
 "nbformat_minor": 2
}
