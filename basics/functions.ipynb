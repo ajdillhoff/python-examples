{
 "cells": [
  {
   "cell_type": "markdown",
   "metadata": {},
   "source": [
    "# Functions\n",
    "\n",
    "We learned the importance of functions early on in mathematics. It is a compact way of represented a complex process dependent on a set of variables. In programming, functions are used to encapsulate a set of instructions that are used repeatedly. Functions are also used to make code more readable and easier to debug.\n",
    "\n",
    "In this notebook, we will look at a few important built-in functions in Python as well as how to define our own functions.\n",
    "\n",
    "## Built-in Functions\n",
    "\n",
    "Python has a good number of built-in functions that cover a general range of tasks. "
   ]
  },
  {
   "cell_type": "code",
   "execution_count": null,
   "metadata": {},
   "outputs": [],
   "source": [
    "# Find the max of a list of numbers\n",
    "max_val = max(1, 2, 3)\n",
    "print(f\"The max value is {max_val}\")\n",
    "\n",
    "# Find the min of a list of numbers\n",
    "min_val = min(1, 2, 3)\n",
    "print(f\"The min value is {min_val}\")\n",
    "\n",
    "# Get the length of a string\n",
    "text = input(\"Enter some text: \")\n",
    "print(f\"The length of \\\"{text}\\\" is {len(text)}\")"
   ]
  },
  {
   "cell_type": "markdown",
   "metadata": {},
   "source": [
    "The `len` function returns the length of a string, list, or other iterable object. Since these functions are built-in, we should treat them as keywords. However, we can still overwrite them if we want to.\n",
    "\n",
    "## Type Conversion Functions\n",
    "\n",
    "Python has built-in functions to convert between data types. These are `int`, `float`, `str`, `bool`, and `list`. Converting between incompatible types will result in an error."
   ]
  },
  {
   "cell_type": "code",
   "execution_count": null,
   "metadata": {},
   "outputs": [],
   "source": [
    "# Try entering a number and text\n",
    "val = input(\"Enter a number: \")\n",
    "val_int = int(val)\n",
    "print(f\"The value of {val} is {val_int}\")\n",
    "\n",
    "# Converting an integer type to float will truncate the decimal value\n",
    "float_val = 3.14\n",
    "int_val = int(float_val)\n",
    "print(f\"The value of {float_val} is {int_val}\")\n",
    "\n",
    "# Converting a number to a string also has its uses\n",
    "big_number = 184759372934\n",
    "big_number_str = str(big_number)\n",
    "print(f\"There are {len(big_number_str)} digits in {big_number_str}\")"
   ]
  },
  {
   "cell_type": "markdown",
   "metadata": {},
   "source": [
    "## Math Functions\n",
    "\n",
    "Python has many more functions that are available through named modules. For example, the `math` module contains many useful functions for mathematical operations. To use these functions, we need to import the module first."
   ]
  },
  {
   "cell_type": "code",
   "execution_count": null,
   "metadata": {},
   "outputs": [],
   "source": [
    "import math\n",
    "\n",
    "signal_power = 10\n",
    "noise_power = 5\n",
    "ratio = signal_power / noise_power\n",
    "decibels = 10 * math.log10(ratio)\n",
    "print(f\"The decibel value is {decibels}\")\n",
    "\n",
    "# The math module also has a function to convert from radians to degrees\n",
    "radians = 0.7\n",
    "degrees = math.degrees(radians)\n",
    "print(f\"{radians} radians is {degrees} degrees\")\n",
    "\n",
    "# The math module also has a function to convert from degrees to radians\n",
    "degrees = 45\n",
    "radians = math.radians(degrees)\n",
    "print(f\"{degrees} degrees is {radians} radians\")"
   ]
  },
  {
   "cell_type": "markdown",
   "metadata": {},
   "source": [
    "### Example: Getting the number of digits without `len`\n",
    "\n",
    "We can use the `math.log10` function to get the number of digits in a number."
   ]
  },
  {
   "cell_type": "code",
   "execution_count": null,
   "metadata": {},
   "outputs": [],
   "source": [
    "big_number = 184759372934\n",
    "big_number_log = math.log10(big_number)\n",
    "print(f\"The log of {big_number} is {big_number_log}\")\n",
    "\n",
    "# We can use this to get the number of digits in a number\n",
    "big_number_log_int = int(big_number_log)\n",
    "print(f\"There are {big_number_log_int + 1} digits in {big_number}\")\n",
    "\n"
   ]
  },
  {
   "cell_type": "markdown",
   "metadata": {},
   "source": [
    "## Random Numbers\n",
    "\n",
    "The `random` module contains functions for generating random numbers. The `random` function returns a random number between 0 and 1. The `randint` function returns a random integer between two numbers. Other functions in the `random` module include `randrange`, `choice`, `choices`, `shuffle`, and `sample`."
   ]
  },
  {
   "cell_type": "code",
   "execution_count": null,
   "metadata": {},
   "outputs": [],
   "source": [
    "import random\n",
    "\n",
    "# Generate 10 random numbers between 0 and 1\n",
    "for i in range(10):\n",
    "    print(random.random())\n",
    "\n",
    "# Generate 10 random integers between 4 and 10\n",
    "for i in range(10):\n",
    "    print(random.randint(4, 10))\n",
    "\n",
    "# Randomly select a value from a list\n",
    "outcomes = [\"rock\", \"paper\", \"scissors\"]\n",
    "print(random.choice(outcomes))"
   ]
  },
  {
   "cell_type": "markdown",
   "metadata": {},
   "source": [
    "Third-party modules such as `numpy` and `scipy` contain many more functions for generating random numbers."
   ]
  },
  {
   "cell_type": "code",
   "execution_count": null,
   "metadata": {},
   "outputs": [],
   "source": [
    "import numpy as np\n",
    "\n",
    "# Generate 10 random numbers between 0 and 1\n",
    "numbers = np.random.rand(10)\n",
    "print(numbers)\n",
    "\n",
    "# Sample 10 random numbers from a normal distribution\n",
    "numbers = np.random.randn(10)\n",
    "print(numbers)"
   ]
  },
  {
   "cell_type": "markdown",
   "metadata": {},
   "source": [
    "## Defining Functions\n",
    "\n",
    "We can define our own functions using the `def` keyword. The syntax for defining a function is as follows:\n",
    "\n",
    "```python\n",
    "def function_name(parameters):\n",
    "    # function body\n",
    "    return value\n",
    "```\n",
    "\n",
    "Python functions can have multiple parameters and return multiple values. The `return` keyword is optional. If it is not used, the function will return `None`."
   ]
  },
  {
   "cell_type": "code",
   "execution_count": null,
   "metadata": {},
   "outputs": [],
   "source": [
    "import math\n",
    "\n",
    "def calculate_stats(numbers):\n",
    "    \"\"\"Calculate the mean and standard deviation of a list of numbers\"\"\"\n",
    "    mean = sum(numbers) / len(numbers)\n",
    "    variance = sum((x - mean) ** 2 for x in numbers) / len(numbers)\n",
    "    std_dev = math.sqrt(variance)\n",
    "    return mean, std_dev\n",
    "\n",
    "# Calculate the mean and standard deviation of a list of numbers\n",
    "numbers = [1, 2, 3, 4, 5]\n",
    "mean, std_dev = calculate_stats(numbers)\n",
    "print(f\"The mean is {mean} and the standard deviation is {std_dev}\")"
   ]
  },
  {
   "cell_type": "markdown",
   "metadata": {},
   "source": [
    "# Default Argument Values\n",
    "\n",
    "Python functions can have default values for their arguments. This allows us to call the function without specifying the value for that argument. If we do not specify a value for an argument, the default value will be used."
   ]
  },
  {
   "cell_type": "code",
   "execution_count": null,
   "metadata": {},
   "outputs": [],
   "source": [
    "# To demonstrate default argument values, let's make a function that\n",
    "# allows the user to select the axis along which to calculate the mean\n",
    "def calculate_mean(numbers, axis=0):\n",
    "    \"\"\"Calculates the mean of a 2D array along a given axis\"\"\"\n",
    "    # Check that the input is a 2D python list\n",
    "    if not isinstance(numbers, list) or not isinstance(numbers[0], list):\n",
    "        raise ValueError(\"Input must be a 2D list\")\n",
    "\n",
    "    if axis == 0:\n",
    "        # Here, zip(*numbers) will return a list of tuples,\n",
    "        # where each tuple is a column of our 2D list.\n",
    "        return [sum(col) / len(col) for col in zip(*numbers)]\n",
    "    elif axis == 1:\n",
    "        return [sum(row) / len(row) for row in numbers]\n",
    "    else:\n",
    "        raise ValueError(\"Invalid axis value\")\n",
    "    \n",
    "# Calculate the mean along the rows\n",
    "numbers = [[1, 2, 3], [4, 5, 6]]\n",
    "mean = calculate_mean(numbers, axis=1)\n",
    "print(\"Mean of each row:\", mean)\n",
    "\n",
    "# Calculate the mean along the columns\n",
    "numbers = [[1, 2, 3], [4, 5, 6]]\n",
    "mean = calculate_mean(numbers, axis=0)\n",
    "print(\"Mean of each column\", mean)"
   ]
  },
  {
   "cell_type": "markdown",
   "metadata": {},
   "source": [
    "# Keyword Arguments\n",
    "\n",
    "Python functions can also have keyword arguments. This allows us to specify the name of the argument when calling the function. This is useful when a function has many arguments and we only want to specify a few of them."
   ]
  },
  {
   "cell_type": "code",
   "execution_count": null,
   "metadata": {},
   "outputs": [],
   "source": [
    "def matrix_max(matrix, axis=0, return_indices=False):\n",
    "    \"\"\"Calculates the maximum of a 2D array along a given axis\"\"\"\n",
    "    # Check that the input is a 2D python list\n",
    "    if not isinstance(matrix, list) or not isinstance(matrix[0], list):\n",
    "        raise ValueError(\"Input must be a 2D list\")\n",
    "\n",
    "    if axis == 0:\n",
    "        # Here, zip(*matrix) will return a list of tuples,\n",
    "        # where each tuple is a column of our 2D list.\n",
    "        max_vals = [max(col) for col in zip(*matrix)]\n",
    "        if return_indices:\n",
    "            max_indices = [col.index(max(col)) for col in zip(*matrix)]\n",
    "            return max_vals, max_indices\n",
    "        else:\n",
    "            return max_vals\n",
    "    elif axis == 1:\n",
    "        max_vals = [max(row) for row in matrix]\n",
    "        if return_indices:\n",
    "            max_indices = [row.index(max(row)) for row in matrix]\n",
    "            return max_vals, max_indices\n",
    "        else:\n",
    "            return max_vals\n",
    "    else:\n",
    "        raise ValueError(\"Invalid axis value\")\n",
    "    \n",
    "# Calculate the max along the rows\n",
    "numbers = [[1, 2, 3], [4, 5, 6]]\n",
    "max_vals = matrix_max(numbers, axis=1)\n",
    "print(\"Max of each row:\", max_vals)\n",
    "\n",
    "# Calculate the max along the columns\n",
    "numbers = [[1, 2, 3], [4, 5, 6]]\n",
    "max_vals = matrix_max(numbers, axis=0)\n",
    "print(\"Max of each column\", max_vals)\n",
    "\n",
    "# Calculate the max along the rows and return the indices\n",
    "numbers = [[1, 2, 3], [4, 5, 6]]\n",
    "max_vals, max_indices = matrix_max(numbers, axis=1, return_indices=True)\n",
    "print(\"Max of each row:\", max_vals)\n",
    "print(\"Indices of max values:\", max_indices)"
   ]
  },
  {
   "cell_type": "markdown",
   "metadata": {},
   "source": [
    "# List Unpacking and Variable Arguments\n",
    "\n",
    "Python functions can have variable arguments. This allows us to pass in a variable number of arguments to a function. The `*` operator is used to unpack a list or tuple into separate arguments."
   ]
  },
  {
   "cell_type": "code",
   "execution_count": null,
   "metadata": {},
   "outputs": [],
   "source": [
    "# The range function expects up to 3 arguments: start, stop, and step\n",
    "# We can use list unpacking to put our arguments in a list\n",
    "args = [1, 10, 2]\n",
    "for i in range(*args):\n",
    "    print(i)"
   ]
  },
  {
   "cell_type": "code",
   "execution_count": null,
   "metadata": {},
   "outputs": [],
   "source": [
    "# We can create a function that support multiple arguments as well as keyword arguments\n",
    "def print_args(*args, **kwargs):\n",
    "    print(\"Positional arguments:\", args)\n",
    "    print(\"Keyword arguments:\", kwargs)\n",
    "\n",
    "print_args(1, 2, 3, a=4, b=5)"
   ]
  }
 ],
 "metadata": {
  "kernelspec": {
   "display_name": "cse6363",
   "language": "python",
   "name": "python3"
  },
  "language_info": {
   "codemirror_mode": {
    "name": "ipython",
    "version": 3
   },
   "file_extension": ".py",
   "mimetype": "text/x-python",
   "name": "python",
   "nbconvert_exporter": "python",
   "pygments_lexer": "ipython3",
   "version": "3.12.3"
  },
  "orig_nbformat": 4
 },
 "nbformat": 4,
 "nbformat_minor": 2
}
