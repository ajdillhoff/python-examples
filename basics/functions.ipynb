{
 "cells": [
  {
   "cell_type": "markdown",
   "metadata": {},
   "source": [
    "# Functions\n",
    "\n",
    "We learned the importance of functions early on in mathematics. It is a compact way of represented a complex process dependent on a set of variables. In programming, functions are used to encapsulate a set of instructions that are used repeatedly. Functions are also used to make code more readable and easier to debug.\n",
    "\n",
    "In this notebook, we will look at a few important built-in functions in Python as well as how to define our own functions.\n",
    "\n",
    "## Built-in Functions\n",
    "\n",
    "Python has a good number of built-in functions that cover a general range of tasks. "
   ]
  },
  {
   "cell_type": "code",
   "execution_count": 6,
   "metadata": {},
   "outputs": [
    {
     "name": "stdout",
     "output_type": "stream",
     "text": [
      "The max value is 3\n",
      "The min value is 1\n",
      "The length of \"testing\" is 7\n"
     ]
    }
   ],
   "source": [
    "# Find the max of a list of numbers\n",
    "max_val = max(1, 2, 3)\n",
    "print(f\"The max value is {max_val}\")\n",
    "\n",
    "# Find the min of a list of numbers\n",
    "min_val = min(1, 2, 3)\n",
    "print(f\"The min value is {min_val}\")\n",
    "\n",
    "# Get the length of a string\n",
    "text = input(\"Enter some text: \")\n",
    "print(f\"The length of \\\"{text}\\\" is {len(text)}\")"
   ]
  },
  {
   "cell_type": "markdown",
   "metadata": {},
   "source": [
    "The `len` function returns the length of a string, list, or other iterable object. Since these functions are built-in, we should treat them as keywords. However, we can still overwrite them if we want to.\n",
    "\n",
    "## Type Conversion Functions\n",
    "\n",
    "Python has built-in functions to convert between data types. These are `int`, `float`, `str`, `bool`, and `list`. Converting between incompatible types will result in an error."
   ]
  },
  {
   "cell_type": "code",
   "execution_count": 11,
   "metadata": {},
   "outputs": [
    {
     "name": "stdout",
     "output_type": "stream",
     "text": [
      "The value of 10 is 10\n",
      "The value of 3.14 is 3\n",
      "There are 12 digits in 184759372934\n"
     ]
    }
   ],
   "source": [
    "# Try entering a number and text\n",
    "val = input(\"Enter a number: \")\n",
    "val_int = int(val)\n",
    "print(f\"The value of {val} is {val_int}\")\n",
    "\n",
    "# Converting an integer type to float will truncate the decimal value\n",
    "float_val = 3.14\n",
    "int_val = int(float_val)\n",
    "print(f\"The value of {float_val} is {int_val}\")\n",
    "\n",
    "# Converting a number to a string also has its uses\n",
    "big_number = 184759372934\n",
    "big_number_str = str(big_number)\n",
    "print(f\"There are {len(big_number_str)} digits in {big_number_str}\")"
   ]
  },
  {
   "cell_type": "markdown",
   "metadata": {},
   "source": [
    "## Math Functions\n",
    "\n",
    "Python has many more functions that are available through named modules. For example, the `math` module contains many useful functions for mathematical operations. To use these functions, we need to import the module first."
   ]
  },
  {
   "cell_type": "code",
   "execution_count": 14,
   "metadata": {},
   "outputs": [
    {
     "name": "stdout",
     "output_type": "stream",
     "text": [
      "The decibel value is 3.010299956639812\n",
      "0.7 radians is 40.10704565915762 degrees\n",
      "45 degrees is 0.7853981633974483 radians\n"
     ]
    }
   ],
   "source": [
    "import math\n",
    "\n",
    "signal_power = 10\n",
    "noise_power = 5\n",
    "ratio = signal_power / noise_power\n",
    "decibels = 10 * math.log10(ratio)\n",
    "print(f\"The decibel value is {decibels}\")\n",
    "\n",
    "# The math module also has a function to convert from radians to degrees\n",
    "radians = 0.7\n",
    "degrees = math.degrees(radians)\n",
    "print(f\"{radians} radians is {degrees} degrees\")\n",
    "\n",
    "# The math module also has a function to convert from degrees to radians\n",
    "degrees = 45\n",
    "radians = math.radians(degrees)\n",
    "print(f\"{degrees} degrees is {radians} radians\")"
   ]
  },
  {
   "cell_type": "markdown",
   "metadata": {},
   "source": [
    "### Example: Getting the number of digits without `len`\n",
    "\n",
    "We can use the `math.log10` function to get the number of digits in a number."
   ]
  },
  {
   "cell_type": "code",
   "execution_count": 13,
   "metadata": {},
   "outputs": [
    {
     "name": "stdout",
     "output_type": "stream",
     "text": [
      "The log of 184759372934 is 11.266606479598726\n",
      "There are 12 digits in 184759372934\n"
     ]
    }
   ],
   "source": [
    "big_number = 184759372934\n",
    "big_number_log = math.log10(big_number)\n",
    "print(f\"The log of {big_number} is {big_number_log}\")\n",
    "\n",
    "# We can use this to get the number of digits in a number\n",
    "big_number_log_int = int(big_number_log)\n",
    "print(f\"There are {big_number_log_int + 1} digits in {big_number}\")\n",
    "\n"
   ]
  },
  {
   "cell_type": "markdown",
   "metadata": {},
   "source": [
    "## Random Numbers\n",
    "\n",
    "The `random` module contains functions for generating random numbers. The `random` function returns a random number between 0 and 1. The `randint` function returns a random integer between two numbers. Other functions in the `random` module include `randrange`, `choice`, `choices`, `shuffle`, and `sample`."
   ]
  },
  {
   "cell_type": "code",
   "execution_count": 21,
   "metadata": {},
   "outputs": [
    {
     "name": "stdout",
     "output_type": "stream",
     "text": [
      "0.5791115192498043\n",
      "0.25376108559783617\n",
      "0.3024994224981705\n",
      "0.09072083021401978\n",
      "0.42037740159252324\n",
      "0.6617409553852582\n",
      "0.4379309412534801\n",
      "0.2475132325137145\n",
      "0.8452657960508129\n",
      "0.9268148237541722\n",
      "4\n",
      "5\n",
      "7\n",
      "5\n",
      "7\n",
      "10\n",
      "8\n",
      "6\n",
      "7\n",
      "4\n",
      "scissors\n"
     ]
    }
   ],
   "source": [
    "import random\n",
    "\n",
    "# Generate 10 random numbers between 0 and 1\n",
    "for i in range(10):\n",
    "    print(random.random())\n",
    "\n",
    "# Generate 10 random integers between 4 and 10\n",
    "for i in range(10):\n",
    "    print(random.randint(4, 10))\n",
    "\n",
    "# Randomly select a value from a list\n",
    "outcomes = [\"rock\", \"paper\", \"scissors\"]\n",
    "print(random.choice(outcomes))"
   ]
  },
  {
   "cell_type": "markdown",
   "metadata": {},
   "source": [
    "Third-party modules such as `numpy` and `scipy` contain many more functions for generating random numbers."
   ]
  },
  {
   "cell_type": "code",
   "execution_count": 28,
   "metadata": {},
   "outputs": [
    {
     "name": "stdout",
     "output_type": "stream",
     "text": [
      "[0.47426298 0.22698408 0.42633457 0.97584666 0.68835279 0.57067918\n",
      " 0.56958053 0.86689698 0.54039587 0.59397872]\n",
      "[ 0.97783258 -0.4043045   0.05416324 -2.21162364 -0.60327265 -0.39077797\n",
      " -0.83294774  0.56285811 -0.28047169 -0.60044315]\n"
     ]
    }
   ],
   "source": [
    "import numpy as np\n",
    "\n",
    "# Generate 10 random numbers between 0 and 1\n",
    "numbers = np.random.rand(10)\n",
    "print(numbers)\n",
    "\n",
    "# Sample 10 random numbers from a normal distribution\n",
    "numbers = np.random.randn(10)\n",
    "print(numbers)"
   ]
  },
  {
   "cell_type": "markdown",
   "metadata": {},
   "source": [
    "## Defining Functions\n",
    "\n",
    "We can define our own functions using the `def` keyword. The syntax for defining a function is as follows:\n",
    "\n",
    "```python\n",
    "def function_name(parameters):\n",
    "    # function body\n",
    "    return value\n",
    "```\n",
    "\n",
    "Python functions can have multiple parameters and return multiple values. The `return` keyword is optional. If it is not used, the function will return `None`."
   ]
  },
  {
   "cell_type": "code",
   "execution_count": 25,
   "metadata": {},
   "outputs": [
    {
     "name": "stdout",
     "output_type": "stream",
     "text": [
      "The mean is 3.0 and the standard deviation is 1.4142135623730951\n"
     ]
    }
   ],
   "source": [
    "def calculate_stats(numbers):\n",
    "    \"\"\"Calculate the mean and standard deviation of a list of numbers\"\"\"\n",
    "    mean = sum(numbers) / len(numbers)\n",
    "    variance = sum((x - mean) ** 2 for x in numbers) / len(numbers)\n",
    "    std_dev = math.sqrt(variance)\n",
    "    return mean, std_dev\n",
    "\n",
    "# Calculate the mean and standard deviation of a list of numbers\n",
    "numbers = [1, 2, 3, 4, 5]\n",
    "mean, std_dev = calculate_stats(numbers)\n",
    "print(f\"The mean is {mean} and the standard deviation is {std_dev}\")"
   ]
  }
 ],
 "metadata": {
  "kernelspec": {
   "display_name": "cse6363",
   "language": "python",
   "name": "python3"
  },
  "language_info": {
   "codemirror_mode": {
    "name": "ipython",
    "version": 3
   },
   "file_extension": ".py",
   "mimetype": "text/x-python",
   "name": "python",
   "nbconvert_exporter": "python",
   "pygments_lexer": "ipython3",
   "version": "3.11.3"
  },
  "orig_nbformat": 4
 },
 "nbformat": 4,
 "nbformat_minor": 2
}
