{
 "cells": [
  {
   "cell_type": "markdown",
   "metadata": {},
   "source": [
    "# Lists and List Comprehensions\n",
    "\n",
    "List comprehensions provide a concise way to create lists, and are often faster than using a for-loop. They are inspired by set-builder notation in mathematics.\n",
    "\n",
    "This notebook demonstrates common list functions as well as the syntax and basic usage of list comprehensions."
   ]
  },
  {
   "cell_type": "code",
   "execution_count": null,
   "metadata": {},
   "outputs": [],
   "source": [
    "names = [\"Naomi\", \"James\", \"Amos\", \"Bobbie\"]\n",
    "\n",
    "# Append \"Miller\" to the end of the list\n",
    "names.append(\"Miller\")\n",
    "# This can also be accomplished using the + operator or the extend() method\n",
    "\n",
    "# These are similar, where `+=` is shorthand for `extend`\n",
    "names.extend([\"Chrisjen\"])\n",
    "names += [\"Alex\"]\n",
    "\n",
    "# `extend()` works on any iterable\n",
    "names.extend([\"Fred\", \"Dawes\", \"Ashford\"])\n",
    "\n",
    "# This can also be done using slicing\n",
    "# names[len(names):] = [\"Fred\", \"Dawes\", \"Ashford\"]\n",
    "\n",
    "# Insert \"Holden\" at the beginning of the list\n",
    "names.insert(0, \"Holden\")\n",
    "\n",
    "# We can easily remove items\n",
    "names.remove(\"Alex\")\n",
    "\n",
    "# We can also remove items by value\n",
    "names.remove(\"Ashford\")\n",
    "\n",
    "# We can also remove items by index. This will return the removed item\n",
    "eros_passenger = names.pop(5)\n",
    "print(eros_passenger + \" is on his way to Venus\")\n",
    "\n",
    "# If your list has duplicates, you can count the number of times a value appears\n",
    "print(\"Naomi\" + \" appears \" + str(names.count(\"Naomi\")) + \" time(s)\")\n",
    "\n",
    "# Reversing a list is easy\n",
    "names.reverse()\n",
    "\n",
    "# We can also create a shallow copy of a list\n",
    "names_copy = names.copy()"
   ]
  },
  {
   "cell_type": "markdown",
   "metadata": {},
   "source": [
    "## Sorting\n",
    "\n",
    "A list can be sorted by calling the `sort` function. The list is sorted in-place, meaning that the original list is modified. Since a list can contain any type of object, the objects must be comparable to each other. For example, a list of strings can be sorted alphabetically, but a list of strings and integers cannot be sorted.\n",
    "\n",
    "In cases with mixed types, a custom `key` function can be passed to the `sort` function. The `key` function is called on each element of the list, and the return value is used to sort the list. For example, to sort a list of strings and integers by the length of the string, the `key` function would transform the integers into strings.\n",
    "\n",
    "```python\n",
    ">>> l = ['abc', 1, 'ab']\n",
    ">>> l.sort(key=str)\n",
    ">>> l\n",
    "[1, 'abc', 'ab']\n",
    "```"
   ]
  },
  {
   "cell_type": "code",
   "execution_count": null,
   "metadata": {},
   "outputs": [],
   "source": [
    "# Sorting is a very common operation, and Python gives us some level of control over how the items are sorted.\n",
    "# The default is to sort in ascending order\n",
    "\n",
    "# Sort the list in ascending order\n",
    "names.sort()\n",
    "print(names)\n",
    "\n",
    "# Sort the list in descending order\n",
    "names.sort(reverse=True)\n",
    "print(names)\n",
    "\n",
    "# We can also sort by a key function, such as the length of each name\n",
    "names.sort(key=len)\n",
    "print(names)\n"
   ]
  },
  {
   "cell_type": "markdown",
   "metadata": {},
   "source": [
    "Let's introduce a slightly more complex scenario in which each person in the list rolls a 20-sided die. We'll use the random module to generate a random number between 1 and 20 for each person. Using those values, we can then sort the list by the roll of the die, in descending order."
   ]
  },
  {
   "cell_type": "code",
   "execution_count": null,
   "metadata": {},
   "outputs": [],
   "source": [
    "import random\n",
    "\n",
    "# Roll a 20-sided die for each person using a for loop\n",
    "# rolls = []\n",
    "# for name in names:\n",
    "#     rolls.append(random.randint(1, 20))\n",
    "\n",
    "# The above code is commented out by default because it can be written more succinctly using a list comprehension\n",
    "rolls = [random.randint(1, 20) for _ in names]\n",
    "\n",
    "print(names)\n",
    "names.index('Fred')\n",
    "\n",
    "# Sort the names by the roll of the die, in descending order\n",
    "# First, create a function that returns the roll based on the name\n",
    "def get_roll(name):\n",
    "    # print(names) # reveals an empty list!\n",
    "    return rolls[names.index(name)]\n",
    "\n",
    "# names.sort(key=get_roll, reverse=True)\n",
    "\n",
    "# The above will not work because `names` does not exist within the scope of the function.\n",
    "\n",
    "# We can instead combine the rolls with the names using the zip() function\n",
    "names_and_rolls = list(zip(names, rolls))\n",
    "names_and_rolls.sort(key=lambda roll: roll[1], reverse=True)\n",
    "print(names_and_rolls)"
   ]
  },
  {
   "cell_type": "markdown",
   "metadata": {},
   "source": [
    "# List Comprehensions\n",
    "\n",
    "We can also create nested list comprehensions, which is equivalent to nested for loops. For example, let's create a 3x4 matrix using a nested list comprehension.\n",
    "\n",
    "## Nested list comprehension\n",
    "\n",
    "## Advanced list comprehension"
   ]
  },
  {
   "cell_type": "code",
   "execution_count": null,
   "metadata": {},
   "outputs": [],
   "source": [
    "# Nested list comprehension\n",
    "\n",
    "# Create a 2D list where each row represents the top 5 rolls for each person\n",
    "top_rolls = [[random.randint(1, 20) for _ in range(5)] for _ in names]\n",
    "print(top_rolls)\n",
    "\n",
    "# We can create a similar 2D list where each row is a tuple of the name and the top 5 rolls\n",
    "top_rolls = [(name, [random.randint(1, 20) for _ in range(5)]) for name in names]\n",
    "print(top_rolls)\n",
    "\n",
    "# If we wrote this with loops, it would look like this:\n",
    "top_rolls = []\n",
    "for name in names:\n",
    "    rolls = []\n",
    "    for _ in range(5):\n",
    "        rolls.append(random.randint(1, 20))\n",
    "    top_rolls.append((name, rolls))"
   ]
  },
  {
   "cell_type": "markdown",
   "metadata": {},
   "source": [
    "# Performance of list comprehensions versus `for` loops\n",
    "\n",
    "A strong argument for list comprehensions is that they are more elegant and easier to read. However, they are also faster than for loops. Let's compare the performance of list comprehensions and for loops.\n",
    "\n",
    "Two common benchmarks to test their performance are to append numbers to a list and to square numbers. Let's compare the performance of list comprehensions and for loops for these two tasks."
   ]
  },
  {
   "cell_type": "code",
   "execution_count": null,
   "metadata": {},
   "outputs": [],
   "source": [
    "import timeit\n",
    "\n",
    "# Benchmark #1: Append vs. List Comprehension\n",
    "# Append\n",
    "def for_append():\n",
    "    names = []\n",
    "    for i in range(1000000):\n",
    "        names.append(i)\n",
    "\n",
    "# print the average out of 10 runs (in milliseconds)\n",
    "print(\"Append: \" + str(timeit.timeit(for_append, number=10) * 1000))\n",
    "\n",
    "# List Comprehension\n",
    "def list_comprehension():\n",
    "    names = [i for i in range(1000000)]\n",
    "\n",
    "# print the average out of 10 runs (in milliseconds)\n",
    "print(\"Append: \" + str(timeit.timeit(for_append, number=10) * 1000))"
   ]
  },
  {
   "cell_type": "code",
   "execution_count": null,
   "metadata": {},
   "outputs": [],
   "source": [
    "# Benchmark 2: Squaring Numbers\n",
    "\n",
    "# For loop\n",
    "def for_loop():\n",
    "    squares = []\n",
    "    for i in range(1000000):\n",
    "        squares.append(i**2)\n",
    "\n",
    "# print the average out of 10 runs (in milliseconds)\n",
    "print(\"For Loop: \" + str(timeit.timeit(for_loop, number=10) * 1000))\n",
    "\n",
    "# List Comprehension\n",
    "def list_comprehension():\n",
    "    squares = [i**2 for i in range(1000000)]\n",
    "\n",
    "# print the average out of 10 runs (in milliseconds)\n",
    "print(\"List Comprehension: \" + str(timeit.timeit(list_comprehension, number=10) * 1000))"
   ]
  }
 ],
 "metadata": {
  "kernelspec": {
   "display_name": "cse6363",
   "language": "python",
   "name": "python3"
  },
  "language_info": {
   "codemirror_mode": {
    "name": "ipython",
    "version": 3
   },
   "file_extension": ".py",
   "mimetype": "text/x-python",
   "name": "python",
   "nbconvert_exporter": "python",
   "pygments_lexer": "ipython3",
   "version": "3.12.3"
  },
  "orig_nbformat": 4
 },
 "nbformat": 4,
 "nbformat_minor": 2
}
