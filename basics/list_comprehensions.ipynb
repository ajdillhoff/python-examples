{
 "cells": [
  {
   "cell_type": "code",
   "execution_count": 5,
   "metadata": {},
   "outputs": [
    {
     "name": "stdout",
     "output_type": "stream",
     "text": [
      "Miller is on his way to Venus\n",
      "Naomi appears 1 time(s)\n"
     ]
    }
   ],
   "source": [
    "names = [\"Naomi\", \"James\", \"Amos\", \"Bobbie\"]\n",
    "\n",
    "# Append \"Miller\" to the end of the list\n",
    "names.append(\"Miller\")\n",
    "# This can also be accomplished using the + operator or the extend() method\n",
    "\n",
    "# These are similar, where `+=` is shorthand for `extend`\n",
    "names.extend([\"Chrisjen\"])\n",
    "names += [\"Alex\"]\n",
    "\n",
    "# `extend()` works on any iterable\n",
    "names.extend([\"Fred\", \"Dawes\", \"Ashford\"])\n",
    "\n",
    "# This can also be done using slicing\n",
    "# names[len(names):] = [\"Fred\", \"Dawes\", \"Ashford\"]\n",
    "\n",
    "# Insert \"Holden\" at the beginning of the list\n",
    "names.insert(0, \"Holden\")\n",
    "\n",
    "# We can easily remove items\n",
    "names.remove(\"Alex\")\n",
    "\n",
    "# We can also remove items by value\n",
    "names.remove(\"Ashford\")\n",
    "\n",
    "# We can also remove items by index. This will return the removed item\n",
    "eros_passenger = names.pop(5)\n",
    "print(eros_passenger + \" is on his way to Venus\")\n",
    "\n",
    "# If your list has duplicates, you can count the number of times a value appears\n",
    "print(\"Naomi\" + \" appears \" + str(names.count(\"Naomi\")) + \" time(s)\")\n",
    "\n",
    "# Reversing a list is easy\n",
    "names.reverse()\n",
    "\n",
    "# We can also create a shallow copy of a list\n",
    "names_copy = names.copy()"
   ]
  },
  {
   "cell_type": "code",
   "execution_count": 13,
   "metadata": {},
   "outputs": [
    {
     "name": "stdout",
     "output_type": "stream",
     "text": [
      "['Amos', 'Bobbie', 'Chrisjen', 'Dawes', 'Fred', 'Holden', 'James', 'Naomi']\n",
      "['Naomi', 'James', 'Holden', 'Fred', 'Dawes', 'Chrisjen', 'Bobbie', 'Amos']\n",
      "['Fred', 'Amos', 'Naomi', 'James', 'Dawes', 'Holden', 'Bobbie', 'Chrisjen']\n",
      "['Fred', 'Amos', 'Naomi', 'James', 'Dawes', 'Holden', 'Bobbie', 'Chrisjen']\n",
      "[]\n"
     ]
    },
    {
     "ename": "ValueError",
     "evalue": "'Fred' is not in list",
     "output_type": "error",
     "traceback": [
      "\u001b[0;31m---------------------------------------------------------------------------\u001b[0m",
      "\u001b[0;31mValueError\u001b[0m                                Traceback (most recent call last)",
      "Cell \u001b[0;32mIn[13], line 37\u001b[0m\n\u001b[1;32m     35\u001b[0m     \u001b[39mprint\u001b[39m(names)\n\u001b[1;32m     36\u001b[0m     \u001b[39mreturn\u001b[39;00m rolls[names\u001b[39m.\u001b[39mindex(name)]\n\u001b[0;32m---> 37\u001b[0m names\u001b[39m.\u001b[39;49msort(key\u001b[39m=\u001b[39;49mget_roll, reverse\u001b[39m=\u001b[39;49m\u001b[39mTrue\u001b[39;49;00m)\n\u001b[1;32m     38\u001b[0m \u001b[39mprint\u001b[39m(names)\n",
      "Cell \u001b[0;32mIn[13], line 36\u001b[0m, in \u001b[0;36mget_roll\u001b[0;34m(name)\u001b[0m\n\u001b[1;32m     34\u001b[0m \u001b[39mdef\u001b[39;00m \u001b[39mget_roll\u001b[39m(name):\n\u001b[1;32m     35\u001b[0m     \u001b[39mprint\u001b[39m(names)\n\u001b[0;32m---> 36\u001b[0m     \u001b[39mreturn\u001b[39;00m rolls[names\u001b[39m.\u001b[39;49mindex(name)]\n",
      "\u001b[0;31mValueError\u001b[0m: 'Fred' is not in list"
     ]
    }
   ],
   "source": [
    "# Sorting is a very common operation, and Python gives us some level of control over how the items are sorted.\n",
    "# The default is to sort in ascending order\n",
    "\n",
    "# Sort the list in ascending order\n",
    "names.sort()\n",
    "print(names)\n",
    "\n",
    "# Sort the list in descending order\n",
    "names.sort(reverse=True)\n",
    "print(names)\n",
    "\n",
    "# We can also sort by a key function, such as the length of each name\n",
    "names.sort(key=len)\n",
    "print(names)\n",
    "\n",
    "# Let's introduce a slightly more complex scenario in which each person in the list rolls a 20-sided die.\n",
    "# We'll use the random module to generate a random number between 1 and 20 for each person.\n",
    "# We'll then sort the list by the roll of the die, in descending order.\n",
    "import random\n",
    "\n",
    "# Roll a 20-sided die for each person using a for loop\n",
    "# rolls = []\n",
    "# for name in names:\n",
    "#     rolls.append(random.randint(1, 20))\n",
    "\n",
    "# The above code is commented out by default because it can be written more succinctly using a list comprehension\n",
    "rolls = [random.randint(1, 20) for _ in names]\n",
    "\n",
    "print(names)\n",
    "names.index('Fred')\n",
    "\n",
    "# Sort the names by the roll of the die, in descending order\n",
    "# First, create a function that returns the roll based on the name\n",
    "def get_roll(name):\n",
    "    print(names)\n",
    "    return rolls[names.index(name)]\n",
    "names.sort(key=get_roll, reverse=True)\n",
    "print(names)"
   ]
  }
 ],
 "metadata": {
  "kernelspec": {
   "display_name": "cse4310",
   "language": "python",
   "name": "python3"
  },
  "language_info": {
   "codemirror_mode": {
    "name": "ipython",
    "version": 3
   },
   "file_extension": ".py",
   "mimetype": "text/x-python",
   "name": "python",
   "nbconvert_exporter": "python",
   "pygments_lexer": "ipython3",
   "version": "3.10.9"
  },
  "orig_nbformat": 4
 },
 "nbformat": 4,
 "nbformat_minor": 2
}
