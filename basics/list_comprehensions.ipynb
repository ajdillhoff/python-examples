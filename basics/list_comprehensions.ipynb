{
 "cells": [
  {
   "cell_type": "code",
   "execution_count": 1,
   "metadata": {},
   "outputs": [
    {
     "name": "stdout",
     "output_type": "stream",
     "text": [
      "Miller is on his way to Venus\n",
      "Naomi appears 1 time(s)\n"
     ]
    }
   ],
   "source": [
    "names = [\"Naomi\", \"James\", \"Amos\", \"Bobbie\"]\n",
    "\n",
    "# Append \"Miller\" to the end of the list\n",
    "names.append(\"Miller\")\n",
    "# This can also be accomplished using the + operator or the extend() method\n",
    "\n",
    "# These are similar, where `+=` is shorthand for `extend`\n",
    "names.extend([\"Chrisjen\"])\n",
    "names += [\"Alex\"]\n",
    "\n",
    "# `extend()` works on any iterable\n",
    "names.extend([\"Fred\", \"Dawes\", \"Ashford\"])\n",
    "\n",
    "# This can also be done using slicing\n",
    "# names[len(names):] = [\"Fred\", \"Dawes\", \"Ashford\"]\n",
    "\n",
    "# Insert \"Holden\" at the beginning of the list\n",
    "names.insert(0, \"Holden\")\n",
    "\n",
    "# We can easily remove items\n",
    "names.remove(\"Alex\")\n",
    "\n",
    "# We can also remove items by value\n",
    "names.remove(\"Ashford\")\n",
    "\n",
    "# We can also remove items by index. This will return the removed item\n",
    "eros_passenger = names.pop(5)\n",
    "print(eros_passenger + \" is on his way to Venus\")\n",
    "\n",
    "# If your list has duplicates, you can count the number of times a value appears\n",
    "print(\"Naomi\" + \" appears \" + str(names.count(\"Naomi\")) + \" time(s)\")\n",
    "\n",
    "# Reversing a list is easy\n",
    "names.reverse()\n",
    "\n",
    "# We can also create a shallow copy of a list\n",
    "names_copy = names.copy()"
   ]
  },
  {
   "cell_type": "code",
   "execution_count": 6,
   "metadata": {},
   "outputs": [
    {
     "name": "stdout",
     "output_type": "stream",
     "text": [
      "['Amos', 'Bobbie', 'Chrisjen', 'Dawes', 'Fred', 'Holden', 'James', 'Naomi']\n",
      "['Naomi', 'James', 'Holden', 'Fred', 'Dawes', 'Chrisjen', 'Bobbie', 'Amos']\n",
      "['Fred', 'Amos', 'Naomi', 'James', 'Dawes', 'Holden', 'Bobbie', 'Chrisjen']\n",
      "['Fred', 'Amos', 'Naomi', 'James', 'Dawes', 'Holden', 'Bobbie', 'Chrisjen']\n",
      "[('Chrisjen', 18), ('Naomi', 15), ('Amos', 13), ('Fred', 12), ('Bobbie', 12), ('James', 11), ('Dawes', 10), ('Holden', 2)]\n"
     ]
    }
   ],
   "source": [
    "# Sorting is a very common operation, and Python gives us some level of control over how the items are sorted.\n",
    "# The default is to sort in ascending order\n",
    "\n",
    "# Sort the list in ascending order\n",
    "names.sort()\n",
    "print(names)\n",
    "\n",
    "# Sort the list in descending order\n",
    "names.sort(reverse=True)\n",
    "print(names)\n",
    "\n",
    "# We can also sort by a key function, such as the length of each name\n",
    "names.sort(key=len)\n",
    "print(names)\n",
    "\n",
    "# Let's introduce a slightly more complex scenario in which each person in the list rolls a 20-sided die.\n",
    "# We'll use the random module to generate a random number between 1 and 20 for each person.\n",
    "# We'll then sort the list by the roll of the die, in descending order.\n",
    "import random\n",
    "\n",
    "# Roll a 20-sided die for each person using a for loop\n",
    "# rolls = []\n",
    "# for name in names:\n",
    "#     rolls.append(random.randint(1, 20))\n",
    "\n",
    "# The above code is commented out by default because it can be written more succinctly using a list comprehension\n",
    "rolls = [random.randint(1, 20) for _ in names]\n",
    "\n",
    "print(names)\n",
    "names.index('Fred')\n",
    "\n",
    "# Sort the names by the roll of the die, in descending order\n",
    "# First, create a function that returns the roll based on the name\n",
    "def get_roll(name):\n",
    "    # print(names) # reveals an empty list!\n",
    "    return rolls[names.index(name)]\n",
    "\n",
    "# names.sort(key=get_roll, reverse=True)\n",
    "\n",
    "# The above will not work because `names` does not exist within the scope of the function.\n",
    "\n",
    "# We can instead combine the rolls with the names using the zip() function\n",
    "names_and_rolls = list(zip(names, rolls))\n",
    "names_and_rolls.sort(key=lambda roll: roll[1], reverse=True)\n",
    "print(names_and_rolls)"
   ]
  },
  {
   "cell_type": "markdown",
   "metadata": {},
   "source": [
    "# List Comprehensions\n",
    "\n",
    "We can also create nested list comprehensions, which is equivalent to nested for loops. For example, let's create a 3x4 matrix using a nested list comprehension.\n",
    "\n",
    "## Nested list comprehension\n",
    "\n",
    "## Advanced list comprehension"
   ]
  },
  {
   "cell_type": "code",
   "execution_count": 11,
   "metadata": {},
   "outputs": [
    {
     "name": "stdout",
     "output_type": "stream",
     "text": [
      "[[1, 20, 14, 6, 14], [3, 2, 12, 2, 8], [17, 7, 18, 5, 20], [18, 8, 14, 3, 4], [6, 1, 19, 15, 4], [17, 15, 5, 8, 1], [6, 14, 6, 3, 6], [10, 10, 15, 7, 13]]\n",
      "[('Fred', [19, 16, 18, 6, 2]), ('Amos', [18, 13, 10, 2, 5]), ('Naomi', [17, 18, 3, 9, 14]), ('James', [19, 3, 13, 6, 1]), ('Dawes', [18, 4, 18, 20, 12]), ('Holden', [1, 2, 15, 17, 6]), ('Bobbie', [12, 17, 7, 1, 1]), ('Chrisjen', [17, 17, 8, 14, 14])]\n"
     ]
    }
   ],
   "source": [
    "# Nested list comprehension\n",
    "\n",
    "# Create a 2D list where each row represents the top 5 rolls for each person\n",
    "top_rolls = [[random.randint(1, 20) for _ in range(5)] for _ in names]\n",
    "print(top_rolls)\n",
    "\n",
    "# We can create a similar 2D list where each row is a tuple of the name and the top 5 rolls\n",
    "top_rolls = [(name, [random.randint(1, 20) for _ in range(5)]) for name in names]\n",
    "print(top_rolls)\n",
    "\n",
    "# If we wrote this with loops, it would look like this:\n",
    "top_rolls = []\n",
    "for name in names:\n",
    "    rolls = []\n",
    "    for _ in range(5):\n",
    "        rolls.append(random.randint(1, 20))\n",
    "    top_rolls.append((name, rolls))"
   ]
  },
  {
   "cell_type": "markdown",
   "metadata": {},
   "source": [
    "# Performance of list comprehensions versus `for` loops\n",
    "\n",
    "A strong argument for list comprehensions is that they are more elegant and easier to read. However, they are also faster than for loops. Let's compare the performance of list comprehensions and for loops.\n",
    "\n",
    "Two common benchmarks to test their performance are to append numbers to a list and to square numbers. Let's compare the performance of list comprehensions and for loops for these two tasks."
   ]
  },
  {
   "cell_type": "code",
   "execution_count": 42,
   "metadata": {},
   "outputs": [
    {
     "name": "stdout",
     "output_type": "stream",
     "text": [
      "Append: 342.3643629939761\n",
      "Append: 345.8127469930332\n"
     ]
    }
   ],
   "source": [
    "import timeit\n",
    "\n",
    "# Benchmark #1: Append vs. List Comprehension\n",
    "# Append\n",
    "def for_append():\n",
    "    names = []\n",
    "    for i in range(1000000):\n",
    "        names.append(i)\n",
    "\n",
    "# print the average out of 10 runs (in milliseconds)\n",
    "print(\"Append: \" + str(timeit.timeit(for_append, number=10) * 1000))\n",
    "\n",
    "# List Comprehension\n",
    "def list_comprehension():\n",
    "    names = [i for i in range(1000000)]\n",
    "\n",
    "# print the average out of 10 runs (in milliseconds)\n",
    "print(\"Append: \" + str(timeit.timeit(for_append, number=10) * 1000))"
   ]
  }
 ],
 "metadata": {
  "kernelspec": {
   "display_name": "cse4310",
   "language": "python",
   "name": "python3"
  },
  "language_info": {
   "codemirror_mode": {
    "name": "ipython",
    "version": 3
   },
   "file_extension": ".py",
   "mimetype": "text/x-python",
   "name": "python",
   "nbconvert_exporter": "python",
   "pygments_lexer": "ipython3",
   "version": "3.11.3"
  },
  "orig_nbformat": 4
 },
 "nbformat": 4,
 "nbformat_minor": 2
}
