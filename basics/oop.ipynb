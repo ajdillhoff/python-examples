{
 "cells": [
  {
   "cell_type": "markdown",
   "metadata": {},
   "source": [
    "# Classes\n",
    "\n",
    "When a class is defined, a namespace is created for it. All assignments to local variables are part of this namespace. The code below defines a class, creates an instance of the class, and calls a method on the instance."
   ]
  },
  {
   "cell_type": "code",
   "execution_count": 9,
   "metadata": {},
   "outputs": [
    {
     "name": "stdout",
     "output_type": "stream",
     "text": [
      "45.0\n"
     ]
    }
   ],
   "source": [
    "class Shape():\n",
    "    \"\"\"Represents any shape.\"\"\"\n",
    "    def __init__(self, color):\n",
    "        self.color = color\n",
    "        self.orientation = 0.0\n",
    "\n",
    "    def rotate(self, angle):\n",
    "        self.orientation += angle\n",
    "\n",
    "s = Shape(\"red\")\n",
    "s.rotate(45.0)\n",
    "print(s.orientation)"
   ]
  },
  {
   "cell_type": "markdown",
   "metadata": {},
   "source": [
    "## Class and Instance Variables\n",
    "\n",
    "The class above has two *instance* variables, `color` and `orientation`. These variables are accessed using the `self` keyword. The `self` keyword is used to access instance variables and methods.\n",
    "\n",
    "Classes can also have *class* variables that are accessible, and shared, by all instances of the class. Let's add a class variable to the `Shape` class."
   ]
  },
  {
   "cell_type": "code",
   "execution_count": 12,
   "metadata": {},
   "outputs": [
    {
     "name": "stdout",
     "output_type": "stream",
     "text": [
      "45.0\n",
      "Maximum area for a shape: 100.0\n"
     ]
    }
   ],
   "source": [
    "class Shape():\n",
    "    \"\"\"Represents any shape.\"\"\"\n",
    "\n",
    "    max_area = 100.0\n",
    "\n",
    "    def __init__(self, color):\n",
    "        self.color = color\n",
    "        self.orientation = 0.0\n",
    "\n",
    "    def rotate(self, angle):\n",
    "        self.orientation += angle\n",
    "\n",
    "s = Shape(\"red\")\n",
    "s.rotate(45.0)\n",
    "r = Shape(\"blue\")\n",
    "print(s.orientation)\n",
    "print(\"Maximum area for a shape:\", Shape.max_area)"
   ]
  },
  {
   "cell_type": "markdown",
   "metadata": {},
   "source": [
    "# Special Methods"
   ]
  },
  {
   "cell_type": "markdown",
   "metadata": {},
   "source": [
    "# Inheritance"
   ]
  },
  {
   "cell_type": "markdown",
   "metadata": {},
   "source": [
    "## `global` and `nonlocal` keywords\n",
    "\n",
    "The `global` keyword is used to declare an identifier that can be used for the entire code block. This is useful when we want to use a variable in a function that is defined outside of the function.\n"
   ]
  },
  {
   "cell_type": "code",
   "execution_count": 4,
   "metadata": {},
   "outputs": [
    {
     "name": "stdout",
     "output_type": "stream",
     "text": [
      "2\n"
     ]
    }
   ],
   "source": [
    "x = 1\n",
    "\n",
    "def f():\n",
    "    global x # global keyword is used to access a global variable from a function\n",
    "    x = 2\n",
    "\n",
    "f()\n",
    "print(x)"
   ]
  },
  {
   "cell_type": "markdown",
   "metadata": {},
   "source": [
    "The `nonlocal` keyword is used to declare an identifier that is defined in the nearest enclosing scope. This is useful when we want to use a variable in a nested function that is defined outside of the nested function. \n"
   ]
  },
  {
   "cell_type": "code",
   "execution_count": 6,
   "metadata": {},
   "outputs": [
    {
     "name": "stdout",
     "output_type": "stream",
     "text": [
      "2\n"
     ]
    }
   ],
   "source": [
    "def f():\n",
    "    x = 1\n",
    "    def g():\n",
    "        nonlocal x\n",
    "        x = 2\n",
    "    g()\n",
    "    print(x)\n",
    "f()"
   ]
  },
  {
   "cell_type": "markdown",
   "metadata": {},
   "source": [
    "The following example from [the official Python docs](https://docs.python.org/3/tutorial/classes.html) shows the relationship between global, local, and nonlocal variables."
   ]
  },
  {
   "cell_type": "code",
   "execution_count": 8,
   "metadata": {},
   "outputs": [
    {
     "name": "stdout",
     "output_type": "stream",
     "text": [
      "After local assignment: test spam\n",
      "After nonlocal assignment: nonlocal spam\n",
      "After global assignment: nonlocal spam\n",
      "In global scope: global spam\n"
     ]
    }
   ],
   "source": [
    "def scope_test():\n",
    "    def do_local():\n",
    "        spam = \"local spam\"\n",
    "\n",
    "    def do_nonlocal():\n",
    "        nonlocal spam\n",
    "        spam = \"nonlocal spam\"\n",
    "\n",
    "    def do_global():\n",
    "        global spam\n",
    "        spam = \"global spam\"\n",
    "\n",
    "    spam = \"test spam\"\n",
    "    do_local()\n",
    "    print(\"After local assignment:\", spam)\n",
    "    do_nonlocal()\n",
    "    print(\"After nonlocal assignment:\", spam)\n",
    "    do_global()\n",
    "    print(\"After global assignment:\", spam)\n",
    "\n",
    "scope_test()\n",
    "print(\"In global scope:\", spam)"
   ]
  },
  {
   "cell_type": "markdown",
   "metadata": {},
   "source": [
    "The unexpected result here is that `spam` is still equal to `nonlocal` even though it was changed in `do_global` by declaring `global spam`. When declaring something as `nonlocal`, the variable must already exist in the enclosing namespace. The declaration of `global spam` created a new instance of `spam` in the `global` namespace."
   ]
  },
  {
   "cell_type": "markdown",
   "metadata": {},
   "source": []
  }
 ],
 "metadata": {
  "kernelspec": {
   "display_name": "cse6363",
   "language": "python",
   "name": "python3"
  },
  "language_info": {
   "codemirror_mode": {
    "name": "ipython",
    "version": 3
   },
   "file_extension": ".py",
   "mimetype": "text/x-python",
   "name": "python",
   "nbconvert_exporter": "python",
   "pygments_lexer": "ipython3",
   "version": "3.11.3"
  },
  "orig_nbformat": 4
 },
 "nbformat": 4,
 "nbformat_minor": 2
}
