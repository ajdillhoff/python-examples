{
 "cells": [
  {
   "cell_type": "markdown",
   "metadata": {},
   "source": [
    "# Classes\n",
    "\n",
    "When a class is defined, a namespace is created for it. All assignments to local variables are part of this namespace. The code below defines a class, creates an instance of the class, and calls a method on the instance."
   ]
  },
  {
   "cell_type": "code",
   "execution_count": 9,
   "metadata": {},
   "outputs": [
    {
     "name": "stdout",
     "output_type": "stream",
     "text": [
      "45.0\n"
     ]
    }
   ],
   "source": [
    "class Shape():\n",
    "    \"\"\"Represents any shape.\"\"\"\n",
    "    def __init__(self, color):\n",
    "        self.color = color\n",
    "        self.orientation = 0.0\n",
    "\n",
    "    def rotate(self, angle):\n",
    "        self.orientation += angle\n",
    "\n",
    "s = Shape(\"red\")\n",
    "s.rotate(45.0)\n",
    "print(s.orientation)"
   ]
  },
  {
   "cell_type": "markdown",
   "metadata": {},
   "source": [
    "## Class and Instance Variables\n",
    "\n",
    "The class above has two *instance* variables, `color` and `orientation`. These variables are accessed using the `self` keyword. The `self` keyword is used to access instance variables and methods.\n",
    "\n",
    "Classes can also have *class* variables that are accessible, and shared, by all instances of the class. Let's add a class variable to the `Shape` class."
   ]
  },
  {
   "cell_type": "code",
   "execution_count": 12,
   "metadata": {},
   "outputs": [
    {
     "name": "stdout",
     "output_type": "stream",
     "text": [
      "45.0\n",
      "Maximum area for a shape: 100.0\n"
     ]
    }
   ],
   "source": [
    "class Shape():\n",
    "    \"\"\"Represents any shape.\"\"\"\n",
    "\n",
    "    max_area = 100.0\n",
    "\n",
    "    def __init__(self, color):\n",
    "        self.color = color\n",
    "        self.orientation = 0.0\n",
    "\n",
    "    def rotate(self, angle):\n",
    "        self.orientation += angle\n",
    "\n",
    "s = Shape(\"red\")\n",
    "s.rotate(45.0)\n",
    "r = Shape(\"blue\")\n",
    "print(s.orientation)\n",
    "print(\"Maximum area for a shape:\", Shape.max_area)"
   ]
  },
  {
   "cell_type": "markdown",
   "metadata": {},
   "source": [
    "# Special Methods\n",
    "\n",
    "We already saw one special method, `__init__()`, that serves as our constructor for a class. There are several others that are useful for customizing our classes. They are\n",
    "- `__str__()`: called when `str()` is called on an instance of the class\n",
    "- `__repr__()`: called when `repr()` is called on an instance of the class\n",
    "- `__len__()`: called when `len()` is called on an instance of the class\n",
    "- `__add__()`: called when `+` is used on two instances of the class\n",
    "- `__eq__()`: called when `==` is used on two instances of the class\n",
    "- `__lt__()`: called when `<` is used on two instances of the class\n",
    "- `__gt__()`: called when `>` is used on two instances of the class\n",
    "- `__le__()`: called when `<=` is used on two instances of the class\n",
    "- `__ge__()`: called when `>=` is used on two instances of the class\n",
    "- `__ne__()`: called when `!=` is used on two instances of the class\n",
    "- `__hash__()`: called when `hash()` is called on an instance of the class\n",
    "- `__bool__()`: called when `bool()` is called on an instance of the class\n",
    "\n",
    "Let's modify the `Shape` class to add a few of these methods. We will also add an `area` attribute so that we can override the comparison operators."
   ]
  },
  {
   "cell_type": "code",
   "execution_count": 2,
   "metadata": {},
   "outputs": [
    {
     "name": "stdout",
     "output_type": "stream",
     "text": [
      "s1 == s2: False\n",
      "s1 != s2: True\n",
      "s1 < s2: True\n",
      "s1 > s2: False\n",
      "s1 <= s2: True\n",
      "s1 >= s2: False\n",
      "Shape, color: red, area: 10.0\n",
      "Shape, color: blue, area: 20.0\n"
     ]
    }
   ],
   "source": [
    "\n",
    "class Shape():\n",
    "    \"\"\"Represents any shape.\"\"\"\n",
    "\n",
    "    max_area = 100.0\n",
    "\n",
    "    def __init__(self, color, area):\n",
    "        self.color = color\n",
    "        self.orientation = 0.0\n",
    "        self.area = area\n",
    "\n",
    "    def rotate(self, angle):\n",
    "        self.orientation += angle\n",
    "\n",
    "    def __eq__(self, other):\n",
    "        return self.area == other.area\n",
    "    \n",
    "    def __lt__(self, other):\n",
    "        return self.area < other.area\n",
    "    \n",
    "    def __gt__(self, other):\n",
    "        return self.area > other.area\n",
    "    \n",
    "    def __le__(self, other):\n",
    "        return self.area <= other.area\n",
    "    \n",
    "    def __ge__(self, other):\n",
    "        return self.area >= other.area\n",
    "    \n",
    "    def __ne__(self, other):\n",
    "        return self.area != other.area\n",
    "    \n",
    "    def __str__(self):\n",
    "        return \"Shape, color: {0}, area: {1}\".format(self.color, self.area)\n",
    "    \n",
    "    s1 = Shape(\"red\", 10.0)\n",
    "    s2 = Shape(\"blue\", 20.0)\n",
    "    print(\"s1 == s2:\", s1 == s2)\n",
    "    print(\"s1 != s2:\", s1 != s2)\n",
    "    print(\"s1 < s2:\", s1 < s2)\n",
    "    print(\"s1 > s2:\", s1 > s2)\n",
    "    print(\"s1 <= s2:\", s1 <= s2)\n",
    "    print(\"s1 >= s2:\", s1 >= s2)\n",
    "    print(s1)\n",
    "    print(s2)"
   ]
  },
  {
   "cell_type": "markdown",
   "metadata": {},
   "source": [
    "Since we have defined the `<` operator, `list.sort()` can sort our shapes. If the `__lt__()` operator was not defined, `list.sort()` would use the `__gt__()` operator. If neither are defined, attemping to sort would result in an error. Let's add a few more and verify this."
   ]
  },
  {
   "cell_type": "code",
   "execution_count": 3,
   "metadata": {},
   "outputs": [
    {
     "name": "stdout",
     "output_type": "stream",
     "text": [
      "Shape, color: red, area: 13.697816464863\n",
      "Shape, color: white, area: 42.56718610585648\n",
      "Shape, color: white, area: 47.443134198872464\n",
      "Shape, color: white, area: 53.85070279838825\n",
      "Shape, color: yellow, area: 66.78631236791435\n",
      "Shape, color: green, area: 70.55065950752918\n",
      "Shape, color: blue, area: 73.19818592952365\n",
      "Shape, color: white, area: 74.03228452807117\n",
      "Shape, color: black, area: 86.72544463003362\n",
      "Shape, color: red, area: 94.59245601130148\n"
     ]
    }
   ],
   "source": [
    "import random\n",
    "\n",
    "colors = [\"red\", \"blue\", \"green\", \"yellow\", \"black\", \"white\"]\n",
    "\n",
    "# Generate 10 shapes with random colors and areas\n",
    "shapes = []\n",
    "for i in range(10):\n",
    "    color = random.choice(colors)\n",
    "    area = random.uniform(0.0, 100.0)\n",
    "    shapes.append(Shape(color, area))\n",
    "\n",
    "# Print the shapes, sorted by area\n",
    "for shape in sorted(shapes):\n",
    "    print(shape)"
   ]
  },
  {
   "cell_type": "markdown",
   "metadata": {},
   "source": [
    "# Inheritance\n",
    "\n",
    "Inheritance allows us to create a specialized version of another class. Generally, this means that our specialized class has access to the methods and instance variables of the parent class. Let's create a `Circle` and `Square` that inherit from shape. Their areas will be calculated based on their properties."
   ]
  },
  {
   "cell_type": "code",
   "execution_count": 40,
   "metadata": {},
   "outputs": [
    {
     "name": "stdout",
     "output_type": "stream",
     "text": [
      "Circle, color: blue, area: 0.5110628296555956, radius: 0.2851984845159934\n",
      "Rectangle, color: yellow, area: 0.6186484099066036, width: 0.2740689854907352, height: 2.25727259433927\n",
      "Circle, color: white, area: 5.867493292628993, radius: 0.9663542627217231\n",
      "Circle, color: green, area: 18.28116762721217, radius: 1.7057368476298893\n",
      "Rectangle, color: blue, area: 20.114023003818147, width: 5.075190544004695, height: 3.963205485472614\n",
      "Rectangle, color: blue, area: 23.171307446004665, width: 2.586024349725701, height: 8.960204666465124\n",
      "Circle, color: red, area: 42.43901187799147, radius: 2.598918721375873\n",
      "Rectangle, color: white, area: 45.198912747710224, width: 9.793600740960953, height: 4.615147578833736\n",
      "Circle, color: yellow, area: 47.991651978311594, radius: 2.7637128359318064\n",
      "Rectangle, color: green, area: 83.54726788281138, width: 9.643204828660805, height: 8.66384872739595\n"
     ]
    }
   ],
   "source": [
    "import math\n",
    "\n",
    "\n",
    "class Shape():\n",
    "    \"\"\"Represents any shape.\"\"\"\n",
    "\n",
    "    max_area = 100.0\n",
    "\n",
    "    def __init__(self, color):\n",
    "        self.color = color\n",
    "        self.orientation = 0.0\n",
    "\n",
    "    def rotate(self, angle):\n",
    "        self.orientation += angle\n",
    "\n",
    "    def __eq__(self, other):\n",
    "        return self.area == other.area\n",
    "    \n",
    "    def __lt__(self, other):\n",
    "        return self.area < other.area\n",
    "    \n",
    "    def __gt__(self, other):\n",
    "        return self.area > other.area\n",
    "    \n",
    "    def __le__(self, other):\n",
    "        return self.area <= other.area\n",
    "    \n",
    "    def __ge__(self, other):\n",
    "        return self.area >= other.area\n",
    "    \n",
    "    def __ne__(self, other):\n",
    "        return self.area != other.area\n",
    "    \n",
    "    def __str__(self):\n",
    "        return \"Shape, color: {0}, area: {1}\".format(self.color, self.area)\n",
    "\n",
    "class Circle(Shape):\n",
    "    \"\"\"Represents a circle.\"\"\"\n",
    "\n",
    "    def __init__(self, color, radius):\n",
    "        Shape.__init__(self, color)\n",
    "        self.radius = radius\n",
    "        self.area = self.get_area()\n",
    "\n",
    "    def __str__(self):\n",
    "        return \"Circle, color: {0}, area: {1}, radius: {2}\".format(self.color, self.area, self.radius)\n",
    "    \n",
    "    def get_area(self):\n",
    "        return 2 * math.pi * self.radius ** 2\n",
    "    \n",
    "class Rectangle(Shape):\n",
    "    \"\"\"Represents a rectangle.\"\"\"\n",
    "\n",
    "    def __init__(self, color, width, height):\n",
    "        Shape.__init__(self, color)\n",
    "        self.width = width\n",
    "        self.height = height\n",
    "        self.area = self.get_area()\n",
    "\n",
    "    def __str__(self):\n",
    "        return \"Rectangle, color: {0}, area: {1}, width: {2}, height: {3}\".format(self.color, self.area, self.width, self.height)\n",
    "    \n",
    "    def get_area(self):\n",
    "        return self.width * self.height\n",
    "    \n",
    "shape_classes = [Rectangle, Circle]\n",
    "colors = [\"red\", \"blue\", \"green\", \"yellow\", \"black\", \"white\"]\n",
    "\n",
    "# Generate 10 shapes with random colors and areas\n",
    "shapes = []\n",
    "for i in range(10):\n",
    "    color = random.choice(colors)\n",
    "    shape_class = random.choice(shape_classes)\n",
    "    if shape_class == Rectangle:\n",
    "        width = random.uniform(0.0, math.sqrt(Shape.max_area))\n",
    "        height = random.uniform(0.0, math.sqrt(Shape.max_area))\n",
    "        shape = Rectangle(color, width, height)\n",
    "    else:\n",
    "        radius = random.uniform(0.0, math.sqrt(Shape.max_area / (2 * math.pi)))\n",
    "        shape = Circle(color, radius)\n",
    "    shapes.append(shape)\n",
    "\n",
    "# Print the shapes, sorted by area\n",
    "for shape in sorted(shapes):\n",
    "    print(shape)"
   ]
  },
  {
   "cell_type": "markdown",
   "metadata": {},
   "source": [
    "## `global` and `nonlocal` keywords\n",
    "\n",
    "The `global` keyword is used to declare an identifier that can be used for the entire code block. This is useful when we want to use a variable in a function that is defined outside of the function.\n"
   ]
  },
  {
   "cell_type": "code",
   "execution_count": 4,
   "metadata": {},
   "outputs": [
    {
     "name": "stdout",
     "output_type": "stream",
     "text": [
      "2\n"
     ]
    }
   ],
   "source": [
    "x = 1\n",
    "\n",
    "def f():\n",
    "    global x # global keyword is used to access a global variable from a function\n",
    "    x = 2\n",
    "\n",
    "f()\n",
    "print(x)"
   ]
  },
  {
   "cell_type": "markdown",
   "metadata": {},
   "source": [
    "The `nonlocal` keyword is used to declare an identifier that is defined in the nearest enclosing scope. This is useful when we want to use a variable in a nested function that is defined outside of the nested function. \n"
   ]
  },
  {
   "cell_type": "code",
   "execution_count": 6,
   "metadata": {},
   "outputs": [
    {
     "name": "stdout",
     "output_type": "stream",
     "text": [
      "2\n"
     ]
    }
   ],
   "source": [
    "def f():\n",
    "    x = 1\n",
    "    def g():\n",
    "        nonlocal x\n",
    "        x = 2\n",
    "    g()\n",
    "    print(x)\n",
    "f()"
   ]
  },
  {
   "cell_type": "markdown",
   "metadata": {},
   "source": [
    "The following example from [the official Python docs](https://docs.python.org/3/tutorial/classes.html) shows the relationship between global, local, and nonlocal variables."
   ]
  },
  {
   "cell_type": "code",
   "execution_count": 8,
   "metadata": {},
   "outputs": [
    {
     "name": "stdout",
     "output_type": "stream",
     "text": [
      "After local assignment: test spam\n",
      "After nonlocal assignment: nonlocal spam\n",
      "After global assignment: nonlocal spam\n",
      "In global scope: global spam\n"
     ]
    }
   ],
   "source": [
    "def scope_test():\n",
    "    def do_local():\n",
    "        spam = \"local spam\"\n",
    "\n",
    "    def do_nonlocal():\n",
    "        nonlocal spam\n",
    "        spam = \"nonlocal spam\"\n",
    "\n",
    "    def do_global():\n",
    "        global spam\n",
    "        spam = \"global spam\"\n",
    "\n",
    "    spam = \"test spam\"\n",
    "    do_local()\n",
    "    print(\"After local assignment:\", spam)\n",
    "    do_nonlocal()\n",
    "    print(\"After nonlocal assignment:\", spam)\n",
    "    do_global()\n",
    "    print(\"After global assignment:\", spam)\n",
    "\n",
    "scope_test()\n",
    "print(\"In global scope:\", spam)"
   ]
  },
  {
   "cell_type": "markdown",
   "metadata": {},
   "source": [
    "The unexpected result here is that `spam` is still equal to `nonlocal` even though it was changed in `do_global` by declaring `global spam`. When declaring something as `nonlocal`, the variable must already exist in the enclosing namespace. The declaration of `global spam` created a new instance of `spam` in the `global` namespace."
   ]
  },
  {
   "cell_type": "markdown",
   "metadata": {},
   "source": []
  }
 ],
 "metadata": {
  "kernelspec": {
   "display_name": "cse6363",
   "language": "python",
   "name": "python3"
  },
  "language_info": {
   "codemirror_mode": {
    "name": "ipython",
    "version": 3
   },
   "file_extension": ".py",
   "mimetype": "text/x-python",
   "name": "python",
   "nbconvert_exporter": "python",
   "pygments_lexer": "ipython3",
   "version": "3.10.9"
  },
  "orig_nbformat": 4
 },
 "nbformat": 4,
 "nbformat_minor": 2
}
