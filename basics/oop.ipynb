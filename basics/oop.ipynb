{
 "cells": [
  {
   "cell_type": "markdown",
   "metadata": {},
   "source": [
    "# Classes\n",
    "\n",
    "When a class is defined, a namespace is created for it. All assignments to local variables are part of this namespace. The code below defines a class, creates an instance of the class, and calls a method on the instance."
   ]
  },
  {
   "cell_type": "code",
   "execution_count": 9,
   "metadata": {},
   "outputs": [
    {
     "name": "stdout",
     "output_type": "stream",
     "text": [
      "45.0\n"
     ]
    }
   ],
   "source": [
    "class Shape():\n",
    "    \"\"\"Represents any shape.\"\"\"\n",
    "    def __init__(self, color):\n",
    "        self.color = color\n",
    "        self.orientation = 0.0\n",
    "\n",
    "    def rotate(self, angle):\n",
    "        self.orientation += angle\n",
    "\n",
    "s = Shape(\"red\")\n",
    "s.rotate(45.0)\n",
    "print(s.orientation)"
   ]
  },
  {
   "cell_type": "markdown",
   "metadata": {},
   "source": [
    "## Class and Instance Variables\n",
    "\n",
    "The class above has two *instance* variables, `color` and `orientation`. These variables are accessed using the `self` keyword. The `self` keyword is used to access instance variables and methods.\n",
    "\n",
    "Classes can also have *class* variables that are accessible, and shared, by all instances of the class. Let's add a class variable to the `Shape` class.\n",
    "\n",
    "### Private Variables\n",
    "\n",
    "Python does not have a formal mechanism for describing a private variable. You can still create them using naming conventions. A common approach to creating private variables is to prefix each identifier with double underscores. If we wanted to make the `orientation` variable private, we would rename it to `__orientation`, for example."
   ]
  },
  {
   "cell_type": "code",
   "execution_count": 12,
   "metadata": {},
   "outputs": [
    {
     "name": "stdout",
     "output_type": "stream",
     "text": [
      "45.0\n",
      "Maximum area for a shape: 100.0\n"
     ]
    }
   ],
   "source": [
    "class Shape():\n",
    "    \"\"\"Represents any shape.\"\"\"\n",
    "\n",
    "    max_area = 100.0\n",
    "\n",
    "    def __init__(self, color):\n",
    "        self.color = color\n",
    "        self.orientation = 0.0\n",
    "\n",
    "    def rotate(self, angle):\n",
    "        self.orientation += angle\n",
    "\n",
    "s = Shape(\"red\")\n",
    "s.rotate(45.0)\n",
    "r = Shape(\"blue\")\n",
    "print(s.orientation)\n",
    "print(\"Maximum area for a shape:\", Shape.max_area)"
   ]
  },
  {
   "cell_type": "markdown",
   "metadata": {},
   "source": [
    "# Special Methods\n",
    "\n",
    "We already saw one special method, `__init__()`, that serves as our constructor for a class. There are several others that are useful for customizing our classes. They are\n",
    "- `__str__()`: called when `str()` is called on an instance of the class\n",
    "- `__repr__()`: called when `repr()` is called on an instance of the class\n",
    "- `__len__()`: called when `len()` is called on an instance of the class\n",
    "- `__add__()`: called when `+` is used on two instances of the class\n",
    "- `__eq__()`: called when `==` is used on two instances of the class\n",
    "- `__lt__()`: called when `<` is used on two instances of the class\n",
    "- `__gt__()`: called when `>` is used on two instances of the class\n",
    "- `__le__()`: called when `<=` is used on two instances of the class\n",
    "- `__ge__()`: called when `>=` is used on two instances of the class\n",
    "- `__ne__()`: called when `!=` is used on two instances of the class\n",
    "- `__hash__()`: called when `hash()` is called on an instance of the class\n",
    "- `__bool__()`: called when `bool()` is called on an instance of the class\n",
    "\n",
    "Let's modify the `Shape` class to add a few of these methods. We will also add an `area` attribute so that we can override the comparison operators."
   ]
  },
  {
   "cell_type": "code",
   "execution_count": 2,
   "metadata": {},
   "outputs": [
    {
     "name": "stdout",
     "output_type": "stream",
     "text": [
      "s1 == s2: False\n",
      "s1 != s2: True\n",
      "s1 < s2: True\n",
      "s1 > s2: False\n",
      "s1 <= s2: True\n",
      "s1 >= s2: False\n",
      "Shape, color: red, area: 10.0\n",
      "Shape, color: blue, area: 20.0\n"
     ]
    }
   ],
   "source": [
    "\n",
    "class Shape():\n",
    "    \"\"\"Represents any shape.\"\"\"\n",
    "\n",
    "    max_area = 100.0\n",
    "\n",
    "    def __init__(self, color, area):\n",
    "        self.color = color\n",
    "        self.orientation = 0.0\n",
    "        self.area = area\n",
    "\n",
    "    def rotate(self, angle):\n",
    "        self.orientation += angle\n",
    "\n",
    "    def __eq__(self, other):\n",
    "        return self.area == other.area\n",
    "    \n",
    "    def __lt__(self, other):\n",
    "        return self.area < other.area\n",
    "    \n",
    "    def __gt__(self, other):\n",
    "        return self.area > other.area\n",
    "    \n",
    "    def __le__(self, other):\n",
    "        return self.area <= other.area\n",
    "    \n",
    "    def __ge__(self, other):\n",
    "        return self.area >= other.area\n",
    "    \n",
    "    def __ne__(self, other):\n",
    "        return self.area != other.area\n",
    "    \n",
    "    def __str__(self):\n",
    "        return \"Shape, color: {0}, area: {1}\".format(self.color, self.area)\n",
    "    \n",
    "    s1 = Shape(\"red\", 10.0)\n",
    "    s2 = Shape(\"blue\", 20.0)\n",
    "    print(\"s1 == s2:\", s1 == s2)\n",
    "    print(\"s1 != s2:\", s1 != s2)\n",
    "    print(\"s1 < s2:\", s1 < s2)\n",
    "    print(\"s1 > s2:\", s1 > s2)\n",
    "    print(\"s1 <= s2:\", s1 <= s2)\n",
    "    print(\"s1 >= s2:\", s1 >= s2)\n",
    "    print(s1)\n",
    "    print(s2)"
   ]
  },
  {
   "cell_type": "markdown",
   "metadata": {},
   "source": [
    "Since we have defined the `<` operator, `list.sort()` can sort our shapes. If the `__lt__()` operator was not defined, `list.sort()` would use the `__gt__()` operator. If neither are defined, attemping to sort would result in an error. Let's add a few more and verify this."
   ]
  },
  {
   "cell_type": "code",
   "execution_count": 3,
   "metadata": {},
   "outputs": [
    {
     "name": "stdout",
     "output_type": "stream",
     "text": [
      "Shape, color: red, area: 13.697816464863\n",
      "Shape, color: white, area: 42.56718610585648\n",
      "Shape, color: white, area: 47.443134198872464\n",
      "Shape, color: white, area: 53.85070279838825\n",
      "Shape, color: yellow, area: 66.78631236791435\n",
      "Shape, color: green, area: 70.55065950752918\n",
      "Shape, color: blue, area: 73.19818592952365\n",
      "Shape, color: white, area: 74.03228452807117\n",
      "Shape, color: black, area: 86.72544463003362\n",
      "Shape, color: red, area: 94.59245601130148\n"
     ]
    }
   ],
   "source": [
    "import random\n",
    "\n",
    "colors = [\"red\", \"blue\", \"green\", \"yellow\", \"black\", \"white\"]\n",
    "\n",
    "# Generate 10 shapes with random colors and areas\n",
    "shapes = []\n",
    "for i in range(10):\n",
    "    color = random.choice(colors)\n",
    "    area = random.uniform(0.0, 100.0)\n",
    "    shapes.append(Shape(color, area))\n",
    "\n",
    "# Print the shapes, sorted by area\n",
    "for shape in sorted(shapes):\n",
    "    print(shape)"
   ]
  },
  {
   "cell_type": "markdown",
   "metadata": {},
   "source": [
    "# Inheritance\n",
    "\n",
    "Inheritance allows us to create a specialized version of another class. Generally, this means that our specialized class has access to the methods and instance variables of the parent class. Let's create a `Circle` and `Square` that inherit from shape. Their areas will be calculated based on their properties."
   ]
  },
  {
   "cell_type": "code",
   "execution_count": 40,
   "metadata": {},
   "outputs": [
    {
     "name": "stdout",
     "output_type": "stream",
     "text": [
      "Circle, color: blue, area: 0.5110628296555956, radius: 0.2851984845159934\n",
      "Rectangle, color: yellow, area: 0.6186484099066036, width: 0.2740689854907352, height: 2.25727259433927\n",
      "Circle, color: white, area: 5.867493292628993, radius: 0.9663542627217231\n",
      "Circle, color: green, area: 18.28116762721217, radius: 1.7057368476298893\n",
      "Rectangle, color: blue, area: 20.114023003818147, width: 5.075190544004695, height: 3.963205485472614\n",
      "Rectangle, color: blue, area: 23.171307446004665, width: 2.586024349725701, height: 8.960204666465124\n",
      "Circle, color: red, area: 42.43901187799147, radius: 2.598918721375873\n",
      "Rectangle, color: white, area: 45.198912747710224, width: 9.793600740960953, height: 4.615147578833736\n",
      "Circle, color: yellow, area: 47.991651978311594, radius: 2.7637128359318064\n",
      "Rectangle, color: green, area: 83.54726788281138, width: 9.643204828660805, height: 8.66384872739595\n"
     ]
    }
   ],
   "source": [
    "import math\n",
    "\n",
    "\n",
    "class Shape():\n",
    "    \"\"\"Represents any shape.\"\"\"\n",
    "\n",
    "    max_area = 100.0\n",
    "\n",
    "    def __init__(self, color):\n",
    "        self.color = color\n",
    "        self.orientation = 0.0\n",
    "\n",
    "    def rotate(self, angle):\n",
    "        self.orientation += angle\n",
    "\n",
    "    def __eq__(self, other):\n",
    "        return self.area == other.area\n",
    "    \n",
    "    def __lt__(self, other):\n",
    "        return self.area < other.area\n",
    "    \n",
    "    def __gt__(self, other):\n",
    "        return self.area > other.area\n",
    "    \n",
    "    def __le__(self, other):\n",
    "        return self.area <= other.area\n",
    "    \n",
    "    def __ge__(self, other):\n",
    "        return self.area >= other.area\n",
    "    \n",
    "    def __ne__(self, other):\n",
    "        return self.area != other.area\n",
    "    \n",
    "    def __str__(self):\n",
    "        return \"Shape, color: {0}, area: {1}\".format(self.color, self.area)\n",
    "\n",
    "class Circle(Shape):\n",
    "    \"\"\"Represents a circle.\"\"\"\n",
    "\n",
    "    def __init__(self, color, radius):\n",
    "        Shape.__init__(self, color)\n",
    "        self.radius = radius\n",
    "        self.area = self.get_area()\n",
    "\n",
    "    def __str__(self):\n",
    "        return \"Circle, color: {0}, area: {1}, radius: {2}\".format(self.color, self.area, self.radius)\n",
    "    \n",
    "    def get_area(self):\n",
    "        return 2 * math.pi * self.radius ** 2\n",
    "    \n",
    "class Rectangle(Shape):\n",
    "    \"\"\"Represents a rectangle.\"\"\"\n",
    "\n",
    "    def __init__(self, color, width, height):\n",
    "        Shape.__init__(self, color)\n",
    "        self.width = width\n",
    "        self.height = height\n",
    "        self.area = self.get_area()\n",
    "\n",
    "    def __str__(self):\n",
    "        return \"Rectangle, color: {0}, area: {1}, width: {2}, height: {3}\".format(self.color, self.area, self.width, self.height)\n",
    "    \n",
    "    def get_area(self):\n",
    "        return self.width * self.height\n",
    "    \n",
    "shape_classes = [Rectangle, Circle]\n",
    "colors = [\"red\", \"blue\", \"green\", \"yellow\", \"black\", \"white\"]\n",
    "\n",
    "# Generate 10 shapes with random colors and areas\n",
    "shapes = []\n",
    "for i in range(10):\n",
    "    color = random.choice(colors)\n",
    "    shape_class = random.choice(shape_classes)\n",
    "    if shape_class == Rectangle:\n",
    "        width = random.uniform(0.0, math.sqrt(Shape.max_area))\n",
    "        height = random.uniform(0.0, math.sqrt(Shape.max_area))\n",
    "        shape = Rectangle(color, width, height)\n",
    "    else:\n",
    "        radius = random.uniform(0.0, math.sqrt(Shape.max_area / (2 * math.pi)))\n",
    "        shape = Circle(color, radius)\n",
    "    shapes.append(shape)\n",
    "\n",
    "# Print the shapes, sorted by area\n",
    "for shape in sorted(shapes):\n",
    "    print(shape)"
   ]
  },
  {
   "cell_type": "markdown",
   "metadata": {},
   "source": [
    "## `global` and `nonlocal` keywords\n",
    "\n",
    "The `global` keyword is used to declare an identifier that can be used for the entire code block. This is useful when we want to use a variable in a function that is defined outside of the function.\n"
   ]
  },
  {
   "cell_type": "code",
   "execution_count": 4,
   "metadata": {},
   "outputs": [
    {
     "name": "stdout",
     "output_type": "stream",
     "text": [
      "2\n"
     ]
    }
   ],
   "source": [
    "x = 1\n",
    "\n",
    "def f():\n",
    "    global x # global keyword is used to access a global variable from a function\n",
    "    x = 2\n",
    "\n",
    "f()\n",
    "print(x)"
   ]
  },
  {
   "cell_type": "markdown",
   "metadata": {},
   "source": [
    "The `nonlocal` keyword is used to declare an identifier that is defined in the nearest enclosing scope. This is useful when we want to use a variable in a nested function that is defined outside of the nested function. \n"
   ]
  },
  {
   "cell_type": "code",
   "execution_count": 6,
   "metadata": {},
   "outputs": [
    {
     "name": "stdout",
     "output_type": "stream",
     "text": [
      "2\n"
     ]
    }
   ],
   "source": [
    "def f():\n",
    "    x = 1\n",
    "    def g():\n",
    "        nonlocal x\n",
    "        x = 2\n",
    "    g()\n",
    "    print(x)\n",
    "f()"
   ]
  },
  {
   "cell_type": "markdown",
   "metadata": {},
   "source": [
    "The following example from [the official Python docs](https://docs.python.org/3/tutorial/classes.html) shows the relationship between global, local, and nonlocal variables."
   ]
  },
  {
   "cell_type": "code",
   "execution_count": 8,
   "metadata": {},
   "outputs": [
    {
     "name": "stdout",
     "output_type": "stream",
     "text": [
      "After local assignment: test spam\n",
      "After nonlocal assignment: nonlocal spam\n",
      "After global assignment: nonlocal spam\n",
      "In global scope: global spam\n"
     ]
    }
   ],
   "source": [
    "def scope_test():\n",
    "    def do_local():\n",
    "        spam = \"local spam\"\n",
    "\n",
    "    def do_nonlocal():\n",
    "        nonlocal spam\n",
    "        spam = \"nonlocal spam\"\n",
    "\n",
    "    def do_global():\n",
    "        global spam\n",
    "        spam = \"global spam\"\n",
    "\n",
    "    spam = \"test spam\"\n",
    "    do_local()\n",
    "    print(\"After local assignment:\", spam)\n",
    "    do_nonlocal()\n",
    "    print(\"After nonlocal assignment:\", spam)\n",
    "    do_global()\n",
    "    print(\"After global assignment:\", spam)\n",
    "\n",
    "scope_test()\n",
    "print(\"In global scope:\", spam)"
   ]
  },
  {
   "cell_type": "markdown",
   "metadata": {},
   "source": [
    "The unexpected result here is that `spam` is still equal to `nonlocal` even though it was changed in `do_global` by declaring `global spam`. When declaring something as `nonlocal`, the variable must already exist in the enclosing namespace. The declaration of `global spam` created a new instance of `spam` in the `global` namespace.\n",
    "\n",
    "The example below shows how local, nonlocal, and global variables work in the context of classes."
   ]
  },
  {
   "cell_type": "code",
   "execution_count": 11,
   "metadata": {},
   "outputs": [
    {
     "name": "stdout",
     "output_type": "stream",
     "text": [
      "gmail.com\n",
      "compuserve.net\n",
      "tx.rr.com\n"
     ]
    }
   ],
   "source": [
    "class User:\n",
    "    \"\"\"Represents a user.\"\"\"\n",
    "\n",
    "    def __init__(self, id, name, password):\n",
    "        self.id = id\n",
    "        self.name = name\n",
    "        self.password = password\n",
    "        self.domain = \"unknown\"\n",
    "\n",
    "    def __str__(self):\n",
    "        return \"User: {0}, id: {1}\".format(self.name, self.id)\n",
    "\n",
    "    def global_login(self):\n",
    "        global domain\n",
    "        self.domain = domain\n",
    "\n",
    "    # def nonlocal_login(self):\n",
    "    #     nonlocal domain\n",
    "    #     domain = \"compuserve.net\"\n",
    "\n",
    "    def nonlocal_login(self):\n",
    "        domain = \"compuserve.net\"\n",
    "\n",
    "        def set_domain():\n",
    "            nonlocal domain\n",
    "            self.domain = domain\n",
    "\n",
    "        set_domain()\n",
    "\n",
    "    def local_login(self):\n",
    "        self.domain = \"tx.rr.com\"\n",
    "\n",
    "domain = \"gmail.com\"\n",
    "u = User(1, \"John\", \"password\")\n",
    "u.global_login()\n",
    "print(u.domain)\n",
    "\n",
    "u.nonlocal_login()\n",
    "print(u.domain)\n",
    "\n",
    "u.local_login()\n",
    "print(u.domain)\n",
    "\n"
   ]
  },
  {
   "cell_type": "markdown",
   "metadata": {},
   "source": [
    "# Data Classes\n",
    "\n",
    "Sometimes in our work, we may want to represent a simple class consisting only of attributes, similar to a `struct` in C. Python provides a way to do this using the `dataclass` decorator. The `dataclass` decorator will automatically generate a constructor, `__repr__()`, and `__eq__()` method for us. The follow example shows how to implement such a class."
   ]
  },
  {
   "cell_type": "code",
   "execution_count": 13,
   "metadata": {},
   "outputs": [
    {
     "name": "stdout",
     "output_type": "stream",
     "text": [
      "Product: GeForce RTX 2080 Ti, id: 1\n",
      "Product: GeForce RTX 2080, id: 2\n",
      "Product: GeForce RTX 2070, id: 3\n",
      "Product: GeForce RTX 2060, id: 4\n",
      "Product: GeForce GTX 1660 Ti, id: 5\n",
      "Product: GeForce GTX 1660, id: 6\n",
      "Product: GeForce GTX 1650, id: 7\n",
      "Product: GeForce GTX 1080 Ti, id: 8\n",
      "Product: GeForce GTX 1080, id: 9\n",
      "Product: GeForce GTX 1070 Ti, id: 10\n"
     ]
    }
   ],
   "source": [
    "from dataclasses import dataclass\n",
    "\n",
    "@dataclass\n",
    "class Product:\n",
    "    \"\"\"Represents a product.\"\"\"\n",
    "    id: int\n",
    "    name: str\n",
    "    price: float\n",
    "    quantity: int = 0\n",
    "\n",
    "    def __str__(self):\n",
    "        return \"Product: {0}, id: {1}\".format(self.name, self.id)\n",
    "    \n",
    "# Let's create a list of graphics cards and list them\n",
    "products = []\n",
    "products.append(Product(1, \"GeForce RTX 2080 Ti\", 1200.0))\n",
    "products.append(Product(2, \"GeForce RTX 2080\", 800.0))\n",
    "products.append(Product(3, \"GeForce RTX 2070\", 600.0))\n",
    "products.append(Product(4, \"GeForce RTX 2060\", 350.0))\n",
    "products.append(Product(5, \"GeForce GTX 1660 Ti\", 275.0))\n",
    "products.append(Product(6, \"GeForce GTX 1660\", 200.0))\n",
    "products.append(Product(7, \"GeForce GTX 1650\", 150.0))\n",
    "products.append(Product(8, \"GeForce GTX 1080 Ti\", 800.0))\n",
    "products.append(Product(9, \"GeForce GTX 1080\", 500.0))\n",
    "products.append(Product(10, \"GeForce GTX 1070 Ti\", 450.0))\n",
    "\n",
    "for product in products:\n",
    "    print(product)"
   ]
  },
  {
   "cell_type": "markdown",
   "metadata": {},
   "source": [
    "# Iterators\n",
    "\n",
    "We have used iterator objects, like a list, in previous examples. When defining our own custom classes, we can also define them as iterators. To do this, we need to implement the `__iter__()` and `__next__()` methods. The `__iter__()` method should return the iterator object itself. The `__next__()` method should return the next item in the sequence. When there are no more items in the sequence, `__next__()` should raise a `StopIteration` exception.\n",
    "\n",
    "This will be useful for our final example, where we will implement a dataloader for a machine learning application. To illusterate iterators with a simpler example, we need to justify the need to implement our own iterator. If we create something simple that iterates over a simple list of objects, why not just use the list itself?\n",
    "\n",
    "Let's create a class that represents a 3D object. A 3D object has a list of vertices and a list of faces. Each face is a list of indices into the list of vertices. We will create a class that represents a 3D object. Our iterator for this class will iterator over the faces of the object, returning the vertices that make up each face."
   ]
  },
  {
   "cell_type": "code",
   "execution_count": 15,
   "metadata": {},
   "outputs": [
    {
     "name": "stdout",
     "output_type": "stream",
     "text": [
      "Face 1: [(0.0, 0.0, 0.0), (1.0, 0.0, 0.0), (1.0, 1.0, 0.0), (0.0, 1.0, 0.0)]\n",
      "Face 2: [(1.0, 0.0, 0.0), (1.0, 0.0, 1.0), (1.0, 1.0, 1.0), (1.0, 1.0, 0.0)]\n",
      "Face 3: [(1.0, 0.0, 1.0), (0.0, 0.0, 1.0), (0.0, 1.0, 1.0), (1.0, 1.0, 1.0)]\n",
      "Face 4: [(0.0, 0.0, 1.0), (0.0, 0.0, 0.0), (0.0, 1.0, 0.0), (0.0, 1.0, 1.0)]\n",
      "Face 5: [(0.0, 1.0, 0.0), (1.0, 1.0, 0.0), (1.0, 1.0, 1.0), (0.0, 1.0, 1.0)]\n",
      "Face 6: [(0.0, 0.0, 1.0), (1.0, 0.0, 1.0), (1.0, 0.0, 0.0), (0.0, 0.0, 0.0)]\n"
     ]
    }
   ],
   "source": [
    "class Model:\n",
    "    \"\"\"Represents a 3D model.\"\"\"\n",
    "\n",
    "    def __init__(self, vertices, faces):\n",
    "        self.vertices = vertices\n",
    "        self.faces = faces\n",
    "        self.index = 0\n",
    "\n",
    "    def __str__(self):\n",
    "        return \"{} vertices, {} faces\".format(len(self.vertices), len(self.faces))\n",
    "\n",
    "    def __len__(self):\n",
    "        return len(self.faces)\n",
    "    \n",
    "    def __iter__(self):\n",
    "        return self\n",
    "    \n",
    "    def __next__(self):\n",
    "        if self.index >= len(self.faces):\n",
    "            raise StopIteration\n",
    "        face = self.faces[self.index]\n",
    "        vertices = []\n",
    "        for vertex_index in face:\n",
    "            vertices.append(self.vertices[vertex_index])\n",
    "        self.index += 1\n",
    "        return vertices\n",
    "    \n",
    "    def __getitem__(self, key):\n",
    "        vertices = []\n",
    "        for vertex_index in self.faces[key]:\n",
    "            vertices.append(self.vertices[vertex_index])\n",
    "        return vertices\n",
    "    \n",
    "# Create a cube model\n",
    "vertices = [(0.0, 0.0, 0.0), (1.0, 0.0, 0.0), (1.0, 1.0, 0.0), (0.0, 1.0, 0.0),\n",
    "            (0.0, 0.0, 1.0), (1.0, 0.0, 1.0), (1.0, 1.0, 1.0), (0.0, 1.0, 1.0)]\n",
    "faces = [(0, 1, 2, 3), (1, 5, 6, 2), (5, 4, 7, 6), (4, 0, 3, 7), (3, 2, 6, 7), (4, 5, 1, 0)]\n",
    "cube = Model(vertices, faces)\n",
    "\n",
    "# Iterator over the model\n",
    "for face in cube:\n",
    "    print(\"Face {}: {}\".format(cube.index, face))"
   ]
  },
  {
   "cell_type": "markdown",
   "metadata": {},
   "source": [
    "# Generators\n",
    "\n",
    "Generators provide a much cleaner way to implement iterators. Instead of implementing the `__iter__()` and `__next__()` methods, we can use the `yield` keyword. The `yield` keyword is used to return a value from a generator. The generator will remember its place in the sequence and return the next value when `next()` is called on it.\n",
    "\n",
    "Since our class already included `__getitem__()`, we can use the `yield` keyword to implement our iterator."
   ]
  },
  {
   "cell_type": "code",
   "execution_count": 17,
   "metadata": {},
   "outputs": [
    {
     "name": "stdout",
     "output_type": "stream",
     "text": [
      "[(0.0, 0.0, 0.0), (1.0, 0.0, 0.0), (1.0, 1.0, 0.0), (0.0, 1.0, 0.0)]\n",
      "[(1.0, 0.0, 0.0), (1.0, 0.0, 1.0), (1.0, 1.0, 1.0), (1.0, 1.0, 0.0)]\n",
      "[(1.0, 0.0, 1.0), (0.0, 0.0, 1.0), (0.0, 1.0, 1.0), (1.0, 1.0, 1.0)]\n",
      "[(0.0, 0.0, 1.0), (0.0, 0.0, 0.0), (0.0, 1.0, 0.0), (0.0, 1.0, 1.0)]\n",
      "[(0.0, 1.0, 0.0), (1.0, 1.0, 0.0), (1.0, 1.0, 1.0), (0.0, 1.0, 1.0)]\n",
      "[(0.0, 0.0, 1.0), (1.0, 0.0, 1.0), (1.0, 0.0, 0.0), (0.0, 0.0, 0.0)]\n"
     ]
    }
   ],
   "source": [
    "def get_next_face(model):\n",
    "    for face in range(len(model)):\n",
    "        yield model[face]\n",
    "\n",
    "# Generator function\n",
    "for face in get_next_face(cube):\n",
    "    print(face)"
   ]
  }
 ],
 "metadata": {
  "kernelspec": {
   "display_name": "cse6363",
   "language": "python",
   "name": "python3"
  },
  "language_info": {
   "codemirror_mode": {
    "name": "ipython",
    "version": 3
   },
   "file_extension": ".py",
   "mimetype": "text/x-python",
   "name": "python",
   "nbconvert_exporter": "python",
   "pygments_lexer": "ipython3",
   "version": "3.11.3"
  },
  "orig_nbformat": 4
 },
 "nbformat": 4,
 "nbformat_minor": 2
}
