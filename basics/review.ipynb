{
 "cells": [
  {
   "cell_type": "code",
   "execution_count": 7,
   "metadata": {},
   "outputs": [
    {
     "name": "stdout",
     "output_type": "stream",
     "text": [
      "100100100100100100100100100100\n",
      "True\n"
     ]
    }
   ],
   "source": [
    "x = input(\"Enter a number: \")\n",
    "\n",
    "\n",
    "print(x * 10)\n",
    "\n",
    "print(x.isdigit())"
   ]
  },
  {
   "cell_type": "code",
   "execution_count": 9,
   "metadata": {},
   "outputs": [
    {
     "name": "stdout",
     "output_type": "stream",
     "text": [
      "A\n",
      "B\n"
     ]
    },
    {
     "ename": "StopIteration",
     "evalue": "",
     "output_type": "error",
     "traceback": [
      "\u001b[0;31m---------------------------------------------------------------------------\u001b[0m",
      "\u001b[0;31mStopIteration\u001b[0m                             Traceback (most recent call last)",
      "\u001b[1;32m/home/alex/dev/teaching/python-examples/basics/review.ipynb Cell 2\u001b[0m line \u001b[0;36m8\n\u001b[1;32m      <a href='vscode-notebook-cell:/home/alex/dev/teaching/python-examples/basics/review.ipynb#W1sZmlsZQ%3D%3D?line=5'>6</a>\u001b[0m \u001b[39mprint\u001b[39m(\u001b[39mnext\u001b[39m(gen))\n\u001b[1;32m      <a href='vscode-notebook-cell:/home/alex/dev/teaching/python-examples/basics/review.ipynb#W1sZmlsZQ%3D%3D?line=6'>7</a>\u001b[0m \u001b[39mprint\u001b[39m(\u001b[39mnext\u001b[39m(gen))\n\u001b[0;32m----> <a href='vscode-notebook-cell:/home/alex/dev/teaching/python-examples/basics/review.ipynb#W1sZmlsZQ%3D%3D?line=7'>8</a>\u001b[0m \u001b[39mprint\u001b[39m(\u001b[39mnext\u001b[39m(gen))\n",
      "\u001b[0;31mStopIteration\u001b[0m: "
     ]
    }
   ],
   "source": [
    "def my_gen():\n",
    "    yield \"A\"\n",
    "    yield \"B\"\n",
    "   \n",
    "gen = my_gen()\n",
    "print(next(gen))\n",
    "print(next(gen))\n",
    "print(next(gen))"
   ]
  },
  {
   "cell_type": "code",
   "execution_count": 11,
   "metadata": {},
   "outputs": [
    {
     "name": "stdout",
     "output_type": "stream",
     "text": [
      "True\n"
     ]
    }
   ],
   "source": [
    "x = 42\n",
    "print(isinstance(x, int))"
   ]
  },
  {
   "cell_type": "code",
   "execution_count": 16,
   "metadata": {},
   "outputs": [
    {
     "ename": "AttributeError",
     "evalue": "'list' object has no attribute 'deepcopy'",
     "output_type": "error",
     "traceback": [
      "\u001b[0;31m---------------------------------------------------------------------------\u001b[0m",
      "\u001b[0;31mAttributeError\u001b[0m                            Traceback (most recent call last)",
      "\u001b[1;32m/home/alex/dev/teaching/python-examples/basics/review.ipynb Cell 4\u001b[0m line \u001b[0;36m4\n\u001b[1;32m      <a href='vscode-notebook-cell:/home/alex/dev/teaching/python-examples/basics/review.ipynb#W3sZmlsZQ%3D%3D?line=1'>2</a>\u001b[0m a \u001b[39m=\u001b[39m [\u001b[39m1\u001b[39m, [\u001b[39m2\u001b[39m, \u001b[39m3\u001b[39m]]\n\u001b[1;32m      <a href='vscode-notebook-cell:/home/alex/dev/teaching/python-examples/basics/review.ipynb#W3sZmlsZQ%3D%3D?line=2'>3</a>\u001b[0m b \u001b[39m=\u001b[39m a\n\u001b[0;32m----> <a href='vscode-notebook-cell:/home/alex/dev/teaching/python-examples/basics/review.ipynb#W3sZmlsZQ%3D%3D?line=3'>4</a>\u001b[0m c \u001b[39m=\u001b[39m a\u001b[39m.\u001b[39mdeepcopy()\n\u001b[1;32m      <a href='vscode-notebook-cell:/home/alex/dev/teaching/python-examples/basics/review.ipynb#W3sZmlsZQ%3D%3D?line=4'>5</a>\u001b[0m a[\u001b[39m1\u001b[39m][\u001b[39m0\u001b[39m] \u001b[39m=\u001b[39m \u001b[39m99\u001b[39m\n\u001b[1;32m      <a href='vscode-notebook-cell:/home/alex/dev/teaching/python-examples/basics/review.ipynb#W3sZmlsZQ%3D%3D?line=5'>6</a>\u001b[0m \u001b[39mprint\u001b[39m(b)\n",
      "\u001b[0;31mAttributeError\u001b[0m: 'list' object has no attribute 'deepcopy'"
     ]
    }
   ],
   "source": [
    "import copy\n",
    "a = [1, [2, 3]]\n",
    "b = a\n",
    "c = a.deepcopy()\n",
    "a[1][0] = 99\n",
    "print(b)\n",
    "print(c)"
   ]
  },
  {
   "cell_type": "code",
   "execution_count": 18,
   "metadata": {},
   "outputs": [
    {
     "name": "stdout",
     "output_type": "stream",
     "text": [
      "apple 1\n",
      "banana 2\n",
      "cherry 3\n"
     ]
    }
   ],
   "source": [
    "my_dict = {'apple': 1, 'banana': 2}\n",
    "my_dict['cherry'] = 3\n",
    "for key in my_dict:\n",
    "    print(key, my_dict[key])"
   ]
  }
 ],
 "metadata": {
  "kernelspec": {
   "display_name": "cse6363",
   "language": "python",
   "name": "python3"
  },
  "language_info": {
   "codemirror_mode": {
    "name": "ipython",
    "version": 3
   },
   "file_extension": ".py",
   "mimetype": "text/x-python",
   "name": "python",
   "nbconvert_exporter": "python",
   "pygments_lexer": "ipython3",
   "version": "3.11.3"
  },
  "orig_nbformat": 4
 },
 "nbformat": 4,
 "nbformat_minor": 2
}
