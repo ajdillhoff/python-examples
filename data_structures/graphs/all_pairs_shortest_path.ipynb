{
 "cells": [
  {
   "cell_type": "code",
   "execution_count": 2,
   "metadata": {},
   "outputs": [],
   "source": [
    "import numpy as np\n",
    "import networkx as nx\n",
    "import matplotlib.pyplot as plt\n",
    "from copy import deepcopy\n",
    "\n",
    "\n",
    "def extend_shortest_paths(L, W):\n",
    "    \"\"\"Computes the min-plus matrix multiplication of L and W.\"\"\"\n",
    "    n = len(L)\n",
    "    L_prime = np.zeros((n, n))\n",
    "    for i in range(n):\n",
    "        for j in range(n):\n",
    "            L_prime[i, j] = np.inf\n",
    "            for k in range(n):\n",
    "                L_prime[i, j] = min(L_prime[i, j], L[i, k] + W[k, j])\n",
    "    return L_prime\n",
    "\n",
    "\n",
    "def slow_all_pairs_shortest_paths(W):\n",
    "    \"\"\"Computes the shortest paths between all pairs of vertices in a graph.\"\"\"\n",
    "    n = len(W)\n",
    "    L = W\n",
    "    for _ in range(n - 2):\n",
    "        L = extend_shortest_paths(L, W)\n",
    "    return L\n",
    "\n",
    "\n",
    "def faster_all_pairs_shortest_paths(W):\n",
    "    \"\"\"Uses the repeated squaring method to compute the shortest paths between all pairs of vertices in a graph.\"\"\"\n",
    "    n = len(W)\n",
    "    L = deepcopy(W)\n",
    "    m = 1\n",
    "    while m < n - 1:\n",
    "        L = extend_shortest_paths(L, L)\n",
    "        m *= 2\n",
    "    return L"
   ]
  },
  {
   "cell_type": "code",
   "execution_count": null,
   "metadata": {},
   "outputs": [],
   "source": []
  }
 ],
 "metadata": {
  "kernelspec": {
   "display_name": "cse6363",
   "language": "python",
   "name": "python3"
  },
  "language_info": {
   "codemirror_mode": {
    "name": "ipython",
    "version": 3
   },
   "file_extension": ".py",
   "mimetype": "text/x-python",
   "name": "python",
   "nbconvert_exporter": "python",
   "pygments_lexer": "ipython3",
   "version": "3.12.2"
  }
 },
 "nbformat": 4,
 "nbformat_minor": 2
}
