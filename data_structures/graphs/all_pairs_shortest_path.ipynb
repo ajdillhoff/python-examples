{
 "cells": [
  {
   "cell_type": "code",
   "execution_count": 4,
   "metadata": {},
   "outputs": [],
   "source": [
    "import numpy as np\n",
    "import networkx as nx\n",
    "import matplotlib.pyplot as plt\n",
    "from copy import deepcopy\n",
    "\n",
    "\n",
    "def extend_shortest_paths(L, W):\n",
    "    \"\"\"Computes the min-plus matrix multiplication of L and W.\"\"\"\n",
    "    n = len(L)\n",
    "    L_prime = np.zeros((n, n))\n",
    "    for i in range(n):\n",
    "        for j in range(n):\n",
    "            L_prime[i, j] = np.inf\n",
    "            for k in range(n):\n",
    "                L_prime[i, j] = min(L_prime[i, j], L[i, k] + W[k, j])\n",
    "    return L_prime\n",
    "\n",
    "\n",
    "def slow_all_pairs_shortest_paths(W):\n",
    "    \"\"\"Computes the shortest paths between all pairs of vertices in a graph.\"\"\"\n",
    "    n = len(W)\n",
    "    L = W\n",
    "    for _ in range(n - 2):\n",
    "        L = extend_shortest_paths(L, W)\n",
    "    return L\n",
    "\n",
    "\n",
    "def faster_all_pairs_shortest_paths(W):\n",
    "    \"\"\"Uses the repeated squaring method to compute the shortest paths between all pairs of vertices in a graph.\"\"\"\n",
    "    n = len(W)\n",
    "    L = deepcopy(W)\n",
    "    m = 1\n",
    "    history = [L]\n",
    "    while m < n - 1:\n",
    "        L = extend_shortest_paths(L, L)\n",
    "        history.append(L)\n",
    "        m *= 2\n",
    "    return L, history"
   ]
  },
  {
   "cell_type": "code",
   "execution_count": 5,
   "metadata": {},
   "outputs": [
    {
     "name": "stdout",
     "output_type": "stream",
     "text": [
      "m = 1\n",
      "[[ 0. inf inf inf -1. inf]\n",
      " [ 1.  0. inf  2. inf inf]\n",
      " [inf  2.  0. inf inf -8.]\n",
      " [-4. inf inf  0.  3. inf]\n",
      " [inf  7. inf inf  0. inf]\n",
      " [inf  5. 10. inf inf  0.]]\n",
      "\n",
      "m = 2\n",
      "[[ 0.  6. inf inf -1. inf]\n",
      " [-2.  0. inf  2.  0. inf]\n",
      " [ 3. -3.  0.  4. inf -8.]\n",
      " [-4. 10. inf  0. -5. inf]\n",
      " [ 8.  7. inf  9.  0. inf]\n",
      " [ 6.  5. 10.  7. inf  0.]]\n",
      "\n",
      "m = 4\n",
      "[[ 0.  6. inf  8. -1. inf]\n",
      " [-2.  0. inf  2. -3. inf]\n",
      " [-5. -3.  0. -1. -3. -8.]\n",
      " [-4.  2. inf  0. -5. inf]\n",
      " [ 5.  7. inf  9.  0. inf]\n",
      " [ 3.  5. 10.  7.  2.  0.]]\n",
      "\n",
      "m = 8\n",
      "[[ 0.  6. inf  8. -1. inf]\n",
      " [-2.  0. inf  2. -3. inf]\n",
      " [-5. -3.  0. -1. -6. -8.]\n",
      " [-4.  2. inf  0. -5. inf]\n",
      " [ 5.  7. inf  9.  0. inf]\n",
      " [ 3.  5. 10.  7.  2.  0.]]\n",
      "\n"
     ]
    }
   ],
   "source": [
    "# Initial weight matrix from Figure 23.2 of Cormen et al.\n",
    "graph = np.array([\n",
    "    [0, np.inf, np.inf, np.inf, -1, np.inf],\n",
    "    [1, 0, np.inf, 2, np.inf, np.inf],\n",
    "    [np.inf, 2, 0, np.inf, np.inf, -8],\n",
    "    [-4, np.inf, np.inf, 0, 3, np.inf],\n",
    "    [np.inf, 7, np.inf, np.inf, 0, np.inf],\n",
    "    [np.inf, 5, 10, np.inf, np.inf, 0]\n",
    "])\n",
    "\n",
    "# Compute the shortest paths between all pairs of vertices\n",
    "L_slow = slow_all_pairs_shortest_paths(graph)\n",
    "L_fast, history = faster_all_pairs_shortest_paths(graph)\n",
    "\n",
    "# Print the history\n",
    "for i, L in enumerate(history):\n",
    "    print(f\"m = {2**i}\")\n",
    "    print(L)\n",
    "    print()"
   ]
  }
 ],
 "metadata": {
  "kernelspec": {
   "display_name": "cse6363",
   "language": "python",
   "name": "python3"
  },
  "language_info": {
   "codemirror_mode": {
    "name": "ipython",
    "version": 3
   },
   "file_extension": ".py",
   "mimetype": "text/x-python",
   "name": "python",
   "nbconvert_exporter": "python",
   "pygments_lexer": "ipython3",
   "version": "3.12.3"
  }
 },
 "nbformat": 4,
 "nbformat_minor": 2
}
