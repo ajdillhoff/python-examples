{
 "cells": [
  {
   "cell_type": "code",
   "execution_count": null,
   "metadata": {},
   "outputs": [],
   "source": [
    "import networkx as nx\n",
    "import matplotlib.pyplot as plt\n",
    "\n",
    "\n",
    "def dijkstra(G, w, source):\n",
    "    # Initialize\n",
    "    S = set()\n",
    "    d = {}\n",
    "    for v in G.nodes():\n",
    "        d[v] = float('inf')\n",
    "    d[source] = 0\n",
    "    Q = list(G.nodes())\n",
    "\n",
    "    # Main loop\n",
    "    while len(Q) > 0:\n",
    "        # Find u in Q with smallest d[u]\n",
    "        min_d = float('inf')\n",
    "        for u in Q:\n",
    "            if d[u] < min_d:\n",
    "                min_d = d[u]\n",
    "                min_u = u\n",
    "        u = min_u\n",
    "        Q.remove(u)\n",
    "        S.add(u)\n",
    "        for v in G.neighbors(u):\n",
    "            if v not in S:\n",
    "                if d[u] + w[(u, v)] < d[v]:\n",
    "                    d[v] = d[u] + w[(u, v)]\n",
    "\n",
    "    return d"
   ]
  }
 ],
 "metadata": {
  "language_info": {
   "name": "python"
  }
 },
 "nbformat": 4,
 "nbformat_minor": 2
}
