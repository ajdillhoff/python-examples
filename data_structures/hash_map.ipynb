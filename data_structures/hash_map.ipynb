{
 "cells": [
  {
   "cell_type": "markdown",
   "metadata": {},
   "source": [
    "# Hash Maps\n",
    "\n",
    "A hash map is a data structure that provides a lookup in $O(1)$. It stores key-value pairs in which the keys are hashed to integers using a hash function. Ideally, the hash function should map each possible key to a unique index in the array. In practice, this is not possible. Collisions occur when the hash function maps two different keys to the same index. There are two common ways to deal with collisions: chaining and open addressing. This notebook will show implementations of both.\n",
    "\n",
    "## Hash Functions\n",
    "\n",
    "A hash function is a function that maps a key to an integer. The hash function should be fast to compute and should distribute the keys uniformly across the array. The hash function should also be deterministic, meaning that the same key should always map to the same integer. There are several strategies for hashing numbers, strings, and objects. The example below shows a simple hash function which sums the ASCII values of the characters in a string."
   ]
  },
  {
   "cell_type": "code",
   "execution_count": 1,
   "metadata": {},
   "outputs": [
    {
     "name": "stdout",
     "output_type": "stream",
     "text": [
      "2\n",
      "world\n"
     ]
    }
   ],
   "source": [
    "def hash(key, size):\n",
    "    # Convert key to ascii values\n",
    "    key = str(key).encode()\n",
    "    return sum(key) % size\n",
    "\n",
    "buckets = [None] * 10\n",
    "buckets[hash('hello', 10)] = 'world'\n",
    "\n",
    "print(hash('hello', 10))\n",
    "print(buckets[hash('hello', 10)])"
   ]
  },
  {
   "cell_type": "markdown",
   "metadata": {},
   "source": [
    "The hash function above is often referred to as **lose lose**. It is evaluated in this [excellent StackOverflow post](https://softwareengineering.stackexchange.com/questions/49550/which-hashing-algorithm-is-best-for-uniqueness-and-speed?newreg=72a6cd970f244b619fe0564ccea3dee7) along with many other hash functions. A more robust hash function for strings is the [djb2](http://www.cse.yorku.ca/~oz/hash.html) hash function. This hash function is used in the Python dictionary implementation.\n"
   ]
  },
  {
   "cell_type": "code",
   "execution_count": 2,
   "metadata": {},
   "outputs": [
    {
     "name": "stdout",
     "output_type": "stream",
     "text": [
      "1\n",
      "world\n"
     ]
    }
   ],
   "source": [
    "def djb2(key, size):\n",
    "    hash_value = 5381\n",
    "    key = str(key).encode()\n",
    "    for char in key:\n",
    "        hash_value = ((hash_value << 5) + hash_value) + char\n",
    "    return hash_value % size\n",
    "\n",
    "buckets = [None] * 10\n",
    "buckets[djb2('hello', 10)] = 'world'\n",
    "\n",
    "print(djb2('hello', 10))\n",
    "print(buckets[djb2('hello', 10)])"
   ]
  },
  {
   "cell_type": "markdown",
   "metadata": {},
   "source": [
    "Now that we have a hash function, let's create a ~HashMap~ class that integrates the hash function. We will test it out on a more robust example which will reveal the need for collision resolution."
   ]
  },
  {
   "cell_type": "code",
   "execution_count": 4,
   "metadata": {},
   "outputs": [
    {
     "ename": "Exception",
     "evalue": "Collision at index 1",
     "output_type": "error",
     "traceback": [
      "\u001b[0;31m---------------------------------------------------------------------------\u001b[0m",
      "\u001b[0;31mException\u001b[0m                                 Traceback (most recent call last)",
      "\u001b[1;32m/Users/dillhoff/dev/teaching/python-examples/data_structures/hash_map.ipynb Cell 6\u001b[0m line \u001b[0;36m4\n\u001b[1;32m     <a href='vscode-notebook-cell:/Users/dillhoff/dev/teaching/python-examples/data_structures/hash_map.ipynb#W5sZmlsZQ%3D%3D?line=37'>38</a>\u001b[0m hash_map\u001b[39m.\u001b[39minsert(\u001b[39m'\u001b[39m\u001b[39mNaomi\u001b[39m\u001b[39m'\u001b[39m, \u001b[39m100\u001b[39m)\n\u001b[1;32m     <a href='vscode-notebook-cell:/Users/dillhoff/dev/teaching/python-examples/data_structures/hash_map.ipynb#W5sZmlsZQ%3D%3D?line=38'>39</a>\u001b[0m hash_map\u001b[39m.\u001b[39minsert(\u001b[39m'\u001b[39m\u001b[39mAmos\u001b[39m\u001b[39m'\u001b[39m, \u001b[39m200\u001b[39m)\n\u001b[0;32m---> <a href='vscode-notebook-cell:/Users/dillhoff/dev/teaching/python-examples/data_structures/hash_map.ipynb#W5sZmlsZQ%3D%3D?line=39'>40</a>\u001b[0m hash_map\u001b[39m.\u001b[39;49minsert(\u001b[39m'\u001b[39;49m\u001b[39mAlex\u001b[39;49m\u001b[39m'\u001b[39;49m, \u001b[39m300\u001b[39;49m)\n\u001b[1;32m     <a href='vscode-notebook-cell:/Users/dillhoff/dev/teaching/python-examples/data_structures/hash_map.ipynb#W5sZmlsZQ%3D%3D?line=40'>41</a>\u001b[0m hash_map\u001b[39m.\u001b[39minsert(\u001b[39m'\u001b[39m\u001b[39mJames\u001b[39m\u001b[39m'\u001b[39m, \u001b[39m400\u001b[39m)\n\u001b[1;32m     <a href='vscode-notebook-cell:/Users/dillhoff/dev/teaching/python-examples/data_structures/hash_map.ipynb#W5sZmlsZQ%3D%3D?line=41'>42</a>\u001b[0m hash_map\u001b[39m.\u001b[39minsert(\u001b[39m'\u001b[39m\u001b[39mBobbie\u001b[39m\u001b[39m'\u001b[39m, \u001b[39m500\u001b[39m)\n",
      "\u001b[1;32m/Users/dillhoff/dev/teaching/python-examples/data_structures/hash_map.ipynb Cell 6\u001b[0m line \u001b[0;36m1\n\u001b[1;32m     <a href='vscode-notebook-cell:/Users/dillhoff/dev/teaching/python-examples/data_structures/hash_map.ipynb#W5sZmlsZQ%3D%3D?line=16'>17</a>\u001b[0m     \u001b[39mself\u001b[39m\u001b[39m.\u001b[39mbuckets[index] \u001b[39m=\u001b[39m value\n\u001b[1;32m     <a href='vscode-notebook-cell:/Users/dillhoff/dev/teaching/python-examples/data_structures/hash_map.ipynb#W5sZmlsZQ%3D%3D?line=17'>18</a>\u001b[0m \u001b[39melse\u001b[39;00m:\n\u001b[0;32m---> <a href='vscode-notebook-cell:/Users/dillhoff/dev/teaching/python-examples/data_structures/hash_map.ipynb#W5sZmlsZQ%3D%3D?line=18'>19</a>\u001b[0m     \u001b[39mraise\u001b[39;00m \u001b[39mException\u001b[39;00m(\u001b[39mf\u001b[39m\u001b[39m'\u001b[39m\u001b[39mCollision at index \u001b[39m\u001b[39m{\u001b[39;00mindex\u001b[39m}\u001b[39;00m\u001b[39m'\u001b[39m)\n",
      "\u001b[0;31mException\u001b[0m: Collision at index 1"
     ]
    }
   ],
   "source": [
    "class HashMap:\n",
    "    def __init__(self, size):\n",
    "        self.size = size\n",
    "        self.buckets = [None] * self.size\n",
    "\n",
    "    # def hash(self, key):\n",
    "    #     hash_value = 5381\n",
    "    #     key = str(key).encode()\n",
    "    #     for char in key:\n",
    "    #         hash_value = ((hash_value << 5) + hash_value) + char\n",
    "    #     return hash_value % self.size\n",
    "\n",
    "    def hash(key, size):\n",
    "        # Convert key to ascii values\n",
    "        key = str(key).encode()\n",
    "        return sum(key) % size\n",
    "    \n",
    "    def insert(self, key, value):\n",
    "        index = self.hash(key)\n",
    "\n",
    "        if self.buckets[index] is None:\n",
    "            self.buckets[index] = value\n",
    "        else:\n",
    "            raise Exception(f'Collision at index {index}')\n",
    "\n",
    "    def find(self, key):\n",
    "        index = self.hash(key)\n",
    "        return self.buckets[index]\n",
    "\n",
    "    def __setitem__(self, key, value):\n",
    "        self.insert(key, value)\n",
    "\n",
    "    def __getitem__(self, key):\n",
    "        return self.find(key)\n",
    "    \n",
    "    def __repr__(self):\n",
    "        return str(self.buckets)\n",
    "    \n",
    "    def __str__(self):\n",
    "        return str(self.buckets)\n",
    "    \n",
    "hash_map = HashMap(10)\n",
    "hash_map.insert('Naomi', 100)\n",
    "hash_map.insert('Amos', 200)\n",
    "hash_map.insert('Alex', 300)\n",
    "hash_map.insert('James', 400)\n",
    "hash_map.insert('Bobbie', 500)"
   ]
  },
  {
   "cell_type": "markdown",
   "metadata": {},
   "source": [
    "# Handing Collisions\n",
    "\n",
    "Uh oh! We had a collision when inserting `Alex` in the example above. How can we resolve this? There are two general methods of dealing with collisions: chaining and open addressing. Chaining involves using a secondary data structure to store the collisions and open addressing involves finding an open slot in the array to store the collision.\n",
    "\n",
    "## Chaining\n",
    "\n",
    "First, we will take a look at chaining. For this, let's use a naive approach. If a collision occurs, we will store the `(key, value)` pair in a list at the index of the array. A more efficient approach would be to use a red-black tree. This would allow for $O(\\log n)$ lookup instead of $O(n)$ lookup."
   ]
  },
  {
   "cell_type": "code",
   "execution_count": 7,
   "metadata": {},
   "outputs": [
    {
     "name": "stdout",
     "output_type": "stream",
     "text": [
      "500\n",
      "300\n",
      "[[('Naomi', 100), ('Amos', 200)], None, None, None, [('Alex', 300)], None, [('James', 400)], None, None, [('Bobbie', 500)]]\n"
     ]
    }
   ],
   "source": [
    "class HashMap:\n",
    "    def __init__(self, size):\n",
    "        self.size = size\n",
    "        self.buckets = [None] * self.size\n",
    "\n",
    "    # def hash(self, key):\n",
    "    #     hash_value = 5381\n",
    "    #     key = str(key).encode()\n",
    "    #     for char in key:\n",
    "    #         hash_value = ((hash_value << 5) + hash_value) + char\n",
    "    #     return hash_value % self.size\n",
    "\n",
    "    def hash(self, key):\n",
    "        # Convert key to ascii values\n",
    "        key = str(key).encode()\n",
    "        return sum(key) % self.size\n",
    "    \n",
    "    def insert(self, key, value):\n",
    "        index = self.hash(key)\n",
    "\n",
    "        if self.buckets[index] is None:\n",
    "            self.buckets[index] = [(key, value)]\n",
    "        else:\n",
    "            self.buckets[index].append((key, value))\n",
    "\n",
    "    def find(self, key):\n",
    "        index = self.hash(key)\n",
    "\n",
    "        if self.buckets[index] is not None:\n",
    "            for item in self.buckets[index]:\n",
    "                if item[0] == key:\n",
    "                    return item[1]\n",
    "\n",
    "        return None\n",
    "    \n",
    "    def __setitem__(self, key, value):\n",
    "        self.insert(key, value)\n",
    "\n",
    "    def __getitem__(self, key):\n",
    "        return self.find(key)\n",
    "    \n",
    "    def __repr__(self):\n",
    "        return str(self.buckets)\n",
    "    \n",
    "    def __str__(self):\n",
    "        return str(self.buckets)\n",
    "    \n",
    "hash_map = HashMap(10)\n",
    "hash_map.insert('Naomi', 100)\n",
    "hash_map.insert('Amos', 200)\n",
    "hash_map.insert('Alex', 300)\n",
    "hash_map.insert('James', 400)\n",
    "hash_map.insert('Bobbie', 500)\n",
    "\n",
    "print(hash_map['Bobbie'])\n",
    "print(hash_map['Alex'])\n",
    "\n",
    "print(hash_map)"
   ]
  }
 ],
 "metadata": {
  "kernelspec": {
   "display_name": "cse4310",
   "language": "python",
   "name": "python3"
  },
  "language_info": {
   "codemirror_mode": {
    "name": "ipython",
    "version": 3
   },
   "file_extension": ".py",
   "mimetype": "text/x-python",
   "name": "python",
   "nbconvert_exporter": "python",
   "pygments_lexer": "ipython3",
   "version": "3.10.9"
  }
 },
 "nbformat": 4,
 "nbformat_minor": 2
}
