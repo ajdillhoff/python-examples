{
 "cells": [
  {
   "cell_type": "markdown",
   "metadata": {},
   "source": [
    "# Hash Maps\n",
    "\n",
    "A hash map is a data structure that provides a lookup in $O(1)$. It stores key-value pairs in which the keys are hashed to integers using a hash function. Ideally, the hash function should map each possible key to a unique index in the array. In practice, this is not possible. Collisions occur when the hash function maps two different keys to the same index. There are two common ways to deal with collisions: chaining and open addressing. This notebook will show implementations of both.\n",
    "\n",
    "## Hash Functions\n",
    "\n",
    "A hash function is a function that maps a key to an integer. The hash function should be fast to compute and should distribute the keys uniformly across the array. The hash function should also be deterministic, meaning that the same key should always map to the same integer. There are several strategies for hashing numbers, strings, and objects. The example below shows a simple hash function which sums the ASCII values of the characters in a string."
   ]
  },
  {
   "cell_type": "code",
   "execution_count": 1,
   "metadata": {},
   "outputs": [
    {
     "name": "stdout",
     "output_type": "stream",
     "text": [
      "2\n",
      "world\n"
     ]
    }
   ],
   "source": [
    "def hash(key, size):\n",
    "    # Convert key to ascii values\n",
    "    key = str(key).encode()\n",
    "    return sum(key) % size\n",
    "\n",
    "buckets = [None] * 10\n",
    "buckets[hash('hello', 10)] = 'world'\n",
    "\n",
    "print(hash('hello', 10))\n",
    "print(buckets[hash('hello', 10)])"
   ]
  },
  {
   "cell_type": "markdown",
   "metadata": {},
   "source": [
    "The hash function above is often referred to as **lose lose**. It is evaluated in this [excellent StackOverflow post](https://softwareengineering.stackexchange.com/questions/49550/which-hashing-algorithm-is-best-for-uniqueness-and-speed?newreg=72a6cd970f244b619fe0564ccea3dee7) along with many other hash functions. A more robust hash function for strings is the [djb2](http://www.cse.yorku.ca/~oz/hash.html) hash function. This hash function is used in the Python dictionary implementation.\n"
   ]
  },
  {
   "cell_type": "code",
   "execution_count": 2,
   "metadata": {},
   "outputs": [
    {
     "name": "stdout",
     "output_type": "stream",
     "text": [
      "1\n",
      "world\n"
     ]
    }
   ],
   "source": [
    "def djb2(key, size):\n",
    "    hash_value = 5381\n",
    "    key = str(key).encode()\n",
    "    for char in key:\n",
    "        hash_value = ((hash_value << 5) + hash_value) + char\n",
    "    return hash_value % size\n",
    "\n",
    "buckets = [None] * 10\n",
    "buckets[djb2('hello', 10)] = 'world'\n",
    "\n",
    "print(djb2('hello', 10))\n",
    "print(buckets[djb2('hello', 10)])"
   ]
  },
  {
   "cell_type": "markdown",
   "metadata": {},
   "source": [
    "Now that we have a hash function, let's create a `HashMap` class that integrates the hash function. We will test it out on a more robust example which will reveal the need for collision resolution."
   ]
  },
  {
   "cell_type": "code",
   "execution_count": 3,
   "metadata": {},
   "outputs": [
    {
     "name": "stdout",
     "output_type": "stream",
     "text": [
      "b'Naomi' 100\n",
      "b'Amos' 200\n"
     ]
    },
    {
     "ename": "Exception",
     "evalue": "Collision at index 0",
     "output_type": "error",
     "traceback": [
      "\u001b[0;31m---------------------------------------------------------------------------\u001b[0m",
      "\u001b[0;31mException\u001b[0m                                 Traceback (most recent call last)",
      "Cell \u001b[0;32mIn[3], line 47\u001b[0m\n\u001b[1;32m     45\u001b[0m hash_map \u001b[38;5;241m=\u001b[39m HashMap(\u001b[38;5;241m10\u001b[39m)\n\u001b[1;32m     46\u001b[0m hash_map\u001b[38;5;241m.\u001b[39minsert(\u001b[38;5;124m'\u001b[39m\u001b[38;5;124mNaomi\u001b[39m\u001b[38;5;124m'\u001b[39m, \u001b[38;5;241m100\u001b[39m)\n\u001b[0;32m---> 47\u001b[0m \u001b[43mhash_map\u001b[49m\u001b[38;5;241;43m.\u001b[39;49m\u001b[43minsert\u001b[49m\u001b[43m(\u001b[49m\u001b[38;5;124;43m'\u001b[39;49m\u001b[38;5;124;43mAmos\u001b[39;49m\u001b[38;5;124;43m'\u001b[39;49m\u001b[43m,\u001b[49m\u001b[43m \u001b[49m\u001b[38;5;241;43m200\u001b[39;49m\u001b[43m)\u001b[49m\n\u001b[1;32m     48\u001b[0m hash_map\u001b[38;5;241m.\u001b[39minsert(\u001b[38;5;124m'\u001b[39m\u001b[38;5;124mAlex\u001b[39m\u001b[38;5;124m'\u001b[39m, \u001b[38;5;241m300\u001b[39m)\n\u001b[1;32m     49\u001b[0m hash_map\u001b[38;5;241m.\u001b[39minsert(\u001b[38;5;124m'\u001b[39m\u001b[38;5;124mJames\u001b[39m\u001b[38;5;124m'\u001b[39m, \u001b[38;5;241m400\u001b[39m)\n",
      "Cell \u001b[0;32mIn[3], line 27\u001b[0m, in \u001b[0;36mHashMap.insert\u001b[0;34m(self, key, value)\u001b[0m\n\u001b[1;32m     25\u001b[0m     \u001b[38;5;28mself\u001b[39m\u001b[38;5;241m.\u001b[39mbuckets[index] \u001b[38;5;241m=\u001b[39m value\n\u001b[1;32m     26\u001b[0m \u001b[38;5;28;01melse\u001b[39;00m:\n\u001b[0;32m---> 27\u001b[0m     \u001b[38;5;28;01mraise\u001b[39;00m \u001b[38;5;167;01mException\u001b[39;00m(\u001b[38;5;124mf\u001b[39m\u001b[38;5;124m'\u001b[39m\u001b[38;5;124mCollision at index \u001b[39m\u001b[38;5;132;01m{\u001b[39;00mindex\u001b[38;5;132;01m}\u001b[39;00m\u001b[38;5;124m'\u001b[39m)\n",
      "\u001b[0;31mException\u001b[0m: Collision at index 0"
     ]
    }
   ],
   "source": [
    "class HashMap:\n",
    "    def __init__(self, size):\n",
    "        self.size = size\n",
    "        self.buckets = [None] * self.size\n",
    "\n",
    "    # def hash(self, key):\n",
    "    #     hash_value = 5381\n",
    "    #     key = str(key).encode()\n",
    "    #     for char in key:\n",
    "    #         hash_value = ((hash_value << 5) + hash_value) + char\n",
    "    #     return hash_value % self.size\n",
    "\n",
    "    def hash(self, key, size):\n",
    "        # Convert key to ascii values\n",
    "        key = str(key).encode()\n",
    "\n",
    "        print(key, size)\n",
    "\n",
    "        return sum(key) % size\n",
    "    \n",
    "    def insert(self, key, value):\n",
    "        index = self.hash(key, value)\n",
    "\n",
    "        if self.buckets[index] is None:\n",
    "            self.buckets[index] = value\n",
    "        else:\n",
    "            raise Exception(f'Collision at index {index}')\n",
    "\n",
    "    def find(self, key):\n",
    "        index = self.hash(key)\n",
    "        return self.buckets[index]\n",
    "\n",
    "    def __setitem__(self, key, value):\n",
    "        self.insert(key, value)\n",
    "\n",
    "    def __getitem__(self, key):\n",
    "        return self.find(key)\n",
    "    \n",
    "    def __repr__(self):\n",
    "        return str(self.buckets)\n",
    "    \n",
    "    def __str__(self):\n",
    "        return str(self.buckets)\n",
    "    \n",
    "hash_map = HashMap(10)\n",
    "hash_map.insert('Naomi', 100)\n",
    "hash_map.insert('Amos', 200)\n",
    "hash_map.insert('Alex', 300)\n",
    "hash_map.insert('James', 400)\n",
    "hash_map.insert('Bobbie', 500)"
   ]
  },
  {
   "cell_type": "markdown",
   "metadata": {},
   "source": [
    "# Handing Collisions\n",
    "\n",
    "Uh oh! We had a collision when inserting `Amos` in the example above. How can we resolve this? There are two general methods of dealing with collisions: chaining and open addressing. Chaining involves using a secondary data structure to store the collisions and open addressing involves finding an open slot in the array to store the collision.\n",
    "\n",
    "## Chaining\n",
    "\n",
    "First, we will take a look at chaining. For this, let's use a naive approach. If a collision occurs, we will store the `(key, value)` pair in a list at the index of the array. A more efficient approach would be to use a red-black tree. This would allow for $O(\\log n)$ lookup instead of $O(n)$ lookup."
   ]
  },
  {
   "cell_type": "code",
   "execution_count": 4,
   "metadata": {},
   "outputs": [
    {
     "name": "stdout",
     "output_type": "stream",
     "text": [
      "└── Naomi 1    └── Amos 0\n",
      "None\n",
      "None\n",
      "None\n",
      "└── Alex 1\n",
      "None\n",
      "└── James 1\n",
      "None\n",
      "None\n",
      "└── Bobbie 1\n",
      "\n"
     ]
    }
   ],
   "source": [
    "from RedBlackTree import RedBlackTree, Node\n",
    "\n",
    "class HashMap:\n",
    "    def __init__(self, size):\n",
    "        self.size = size\n",
    "        self.buckets = [None] * self.size\n",
    "\n",
    "    # def hash(self, key):\n",
    "    #     hash_value = 5381\n",
    "    #     key = str(key).encode()\n",
    "    #     for char in key:\n",
    "    #         hash_value = ((hash_value << 5) + hash_value) + char\n",
    "    #     return hash_value % self.size\n",
    "\n",
    "    def hash(self, key):\n",
    "        # Convert key to ascii values\n",
    "        key = str(key).encode()\n",
    "        return sum(key) % self.size\n",
    "    \n",
    "    def insert(self, key, value):\n",
    "        index = self.hash(key)\n",
    "\n",
    "        if self.buckets[index] is None:\n",
    "            self.buckets[index] = RedBlackTree()\n",
    "        n = Node(key, value)\n",
    "        self.buckets[index].insert(n)\n",
    "\n",
    "    def find(self, key):\n",
    "        index = self.hash(key)\n",
    "\n",
    "        if self.buckets[index] is not None:\n",
    "            for item in self.buckets[index]:\n",
    "                if item[0] == key:\n",
    "                    return item[1]\n",
    "\n",
    "        return None\n",
    "    \n",
    "    def __setitem__(self, key, value):\n",
    "        self.insert(key, value)\n",
    "\n",
    "    def __getitem__(self, key):\n",
    "        return self.find(key)\n",
    "    \n",
    "    def __repr__(self):\n",
    "        return str(self.buckets)\n",
    "    \n",
    "    def __str__(self):\n",
    "        s = \"\"\n",
    "        for i in self.buckets:\n",
    "            s += str(i) + \"\\n\"\n",
    "        return s\n",
    "    \n",
    "hash_map = HashMap(10)\n",
    "hash_map.insert('Naomi', 100)\n",
    "hash_map.insert('Amos', 200)\n",
    "hash_map.insert('Alex', 300)\n",
    "hash_map.insert('James', 400)\n",
    "hash_map.insert('Bobbie', 500)\n",
    "\n",
    "# print(hash_map['Bobbie'])\n",
    "# print(hash_map['Alex'])\n",
    "\n",
    "print(hash_map)"
   ]
  }
 ],
 "metadata": {
  "kernelspec": {
   "display_name": "cse6363",
   "language": "python",
   "name": "python3"
  },
  "language_info": {
   "codemirror_mode": {
    "name": "ipython",
    "version": 3
   },
   "file_extension": ".py",
   "mimetype": "text/x-python",
   "name": "python",
   "nbconvert_exporter": "python",
   "pygments_lexer": "ipython3",
   "version": "3.12.2"
  }
 },
 "nbformat": 4,
 "nbformat_minor": 2
}
