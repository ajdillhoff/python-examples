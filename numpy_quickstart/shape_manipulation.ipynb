{
 "cells": [
  {
   "cell_type": "markdown",
   "metadata": {},
   "source": [
    "# `NumPy` Quickstart\n",
    "\n",
    "This notebook is a quick introduction to `NumPy`. It is an interactive version of the [NumPy Quickstart Tutorial](https://docs.scipy.org/doc/numpy/user/quickstart.html).\n",
    "\n",
    "All credits go to the original authors of the tutorial © Copyright 2008-2023, NumPy Developers.\n",
    "\n",
    "# Shape Manipulation\n",
    "\n",
    "## Changing the shape of an array\n",
    "\n",
    "An array has a shape given by the number of elements along each axis:"
   ]
  },
  {
   "cell_type": "code",
   "execution_count": 3,
   "metadata": {},
   "outputs": [
    {
     "name": "stdout",
     "output_type": "stream",
     "text": [
      "a = \n",
      "[[6. 7. 2. 1.]\n",
      " [5. 9. 4. 9.]\n",
      " [3. 5. 3. 2.]]\n",
      "a.shape = (3, 4)\n"
     ]
    }
   ],
   "source": [
    "import numpy as np\n",
    "\n",
    "a = np.floor(10 * np.random.random((3,4)))\n",
    "\n",
    "print(\"a = \\n{}\".format(a))\n",
    "print(\"a.shape = {}\".format(a.shape))"
   ]
  },
  {
   "cell_type": "markdown",
   "metadata": {},
   "source": [
    "The shape of an array can be changed with various commands. Note that the following three commands all return a modified array, but do not change the original array:"
   ]
  },
  {
   "cell_type": "code",
   "execution_count": 4,
   "metadata": {},
   "outputs": [
    {
     "name": "stdout",
     "output_type": "stream",
     "text": [
      "a.ravel() = [6. 7. 2. 1. 5. 9. 4. 9. 3. 5. 3. 2.]\n",
      "a.reshape(6,2) = \n",
      "[[6. 7.]\n",
      " [2. 1.]\n",
      " [5. 9.]\n",
      " [4. 9.]\n",
      " [3. 5.]\n",
      " [3. 2.]]\n",
      "a.T = \n",
      "[[6. 5. 3.]\n",
      " [7. 9. 5.]\n",
      " [2. 4. 3.]\n",
      " [1. 9. 2.]]\n",
      "a.T.shape = (4, 3)\n"
     ]
    }
   ],
   "source": [
    "print(\"a.ravel() = {}\".format(a.ravel())) # flatten the array\n",
    "print(\"a.reshape(6,2) = \\n{}\".format(a.reshape(6,2))) # reshape the array\n",
    "print(\"a.T = \\n{}\".format(a.T)) # transpose the array\n",
    "print(\"a.T.shape = {}\".format(a.T.shape))"
   ]
  },
  {
   "cell_type": "markdown",
   "metadata": {},
   "source": [
    "The order of the elements in the array resulting from `ravel` is normally “C-style”, that is, the rightmost index “changes the fastest”, so the element after `a[0,0]` is `a[0,1]`. If the array is reshaped to some other shape, again the array is treated as “C-style”. NumPy normally creates arrays stored in this order, so `ravel` will usually not need to copy its argument, but if the array was made by taking slices of another array or created with unusual options, it may need to be copied. The functions `ravel` and `reshape` can also be instructed, using an optional argument, to use FORTRAN-style arrays, in which the leftmost index changes the fastest.\n",
    "\n",
    "The `reshape` function returns its argument with a modified shape, whereas the `ndarray.resize` method modifies the array itself:"
   ]
  },
  {
   "cell_type": "code",
   "execution_count": 6,
   "metadata": {},
   "outputs": [
    {
     "name": "stdout",
     "output_type": "stream",
     "text": [
      "a.resize((2,6)) = \n",
      "[[6. 7. 2. 1. 5. 9.]\n",
      " [4. 9. 3. 5. 3. 2.]]\n"
     ]
    }
   ],
   "source": [
    "a.resize((2,6)) # resize the array\n",
    "print(\"a.resize((2,6)) = \\n{}\".format(a))"
   ]
  },
  {
   "cell_type": "markdown",
   "metadata": {},
   "source": [
    "If a dimension is given as -1 in a reshaping operation, the other dimensions are automatically calculated:"
   ]
  },
  {
   "cell_type": "code",
   "execution_count": 8,
   "metadata": {},
   "outputs": [
    {
     "name": "stdout",
     "output_type": "stream",
     "text": [
      "a.reshape(3, -1) = \n",
      "[[6. 7. 2. 1.]\n",
      " [5. 9. 4. 9.]\n",
      " [3. 5. 3. 2.]]\n"
     ]
    }
   ],
   "source": [
    "print(\"a.reshape(3, -1) = \\n{}\".format(a.reshape(3, -1)))"
   ]
  },
  {
   "cell_type": "markdown",
   "metadata": {},
   "source": [
    "## Stacking together different arrays\n",
    "\n",
    "Several arrays can be stacked together along different axes:"
   ]
  },
  {
   "cell_type": "code",
   "execution_count": 10,
   "metadata": {},
   "outputs": [
    {
     "name": "stdout",
     "output_type": "stream",
     "text": [
      "a = \n",
      "[[8. 0.]\n",
      " [5. 1.]]\n",
      "b = \n",
      "[[7. 7.]\n",
      " [0. 1.]]\n",
      "np.vstack((a,b)) = \n",
      "[[8. 0.]\n",
      " [5. 1.]\n",
      " [7. 7.]\n",
      " [0. 1.]]\n",
      "np.hstack((a,b)) = \n",
      "[[8. 0. 7. 7.]\n",
      " [5. 1. 0. 1.]]\n"
     ]
    }
   ],
   "source": [
    "a = np.floor(10 * np.random.random((2,2)))\n",
    "print(\"a = \\n{}\".format(a))\n",
    "\n",
    "b = np.floor(10 * np.random.random((2,2)))\n",
    "print(\"b = \\n{}\".format(b))\n",
    "\n",
    "print(\"np.vstack((a,b)) = \\n{}\".format(np.vstack((a,b))))\n",
    "\n",
    "print(\"np.hstack((a,b)) = \\n{}\".format(np.hstack((a,b))))"
   ]
  },
  {
   "cell_type": "markdown",
   "metadata": {},
   "source": [
    "The function `column_stack` stacks 1D arrays as columns into a 2D array. It is equivalent to `hstack` only for 2D arrays:"
   ]
  },
  {
   "cell_type": "code",
   "execution_count": 12,
   "metadata": {},
   "outputs": [
    {
     "name": "stdout",
     "output_type": "stream",
     "text": [
      "np.column_stack((a,b)) = \n",
      "[[4. 3.]\n",
      " [2. 8.]]\n",
      "np.column_stack((a,b)) = \n",
      "[[4. 3.]\n",
      " [2. 8.]]\n",
      "np.hstack((a,b)) = \n",
      "[4. 2. 3. 8.]\n",
      "a[:,newaxis] = \n",
      "[[4.]\n",
      " [2.]]\n",
      "np.column_stack((a[:,newaxis],b[:,newaxis])) = \n",
      "[[4. 3.]\n",
      " [2. 8.]]\n",
      "np.hstack((a[:,newaxis],b[:,newaxis])) = \n",
      "[[4. 3.]\n",
      " [2. 8.]]\n"
     ]
    }
   ],
   "source": [
    "from numpy import newaxis\n",
    "\n",
    "print(\"np.column_stack((a,b)) = \\n{}\".format(np.column_stack((a,b)))) # with 2D arrays\n",
    "\n",
    "a = np.array([4.,2.])\n",
    "b = np.array([3.,8.])\n",
    "\n",
    "print(\"np.column_stack((a,b)) = \\n{}\".format(np.column_stack((a,b)))) # returns a 2D array\n",
    "print(\"np.hstack((a,b)) = \\n{}\".format(np.hstack((a,b)))) # returns a 1D array\n",
    "print(\"a[:,newaxis] = \\n{}\".format(a[:,newaxis])) # view a as a 2D column vector\n",
    "print(\"np.column_stack((a[:,newaxis],b[:,newaxis])) = \\n{}\".format(np.column_stack((a[:,newaxis],b[:,newaxis]))))\n",
    "print(\"np.hstack((a[:,newaxis],b[:,newaxis])) = \\n{}\".format(np.hstack((a[:,newaxis],b[:,newaxis]))))"
   ]
  },
  {
   "cell_type": "markdown",
   "metadata": {},
   "source": [
    "In general, for arrays of with more than two dimensions, `hstack` stacks along their second axes, `vstack` stacks along their first axes, and `concatenate` allows for an optional arguments giving the number of the axis along which the concatenation should happen.\n",
    "\n",
    "**Note**\n",
    "\n",
    "In complex cases, `r_` and `c_` are useful for creating arrays by stacking numbers along one axis. They allow the use of range literals `:`"
   ]
  },
  {
   "cell_type": "code",
   "execution_count": 13,
   "metadata": {},
   "outputs": [
    {
     "name": "stdout",
     "output_type": "stream",
     "text": [
      "np.r_[1:4,0,4] = \n",
      "[1 2 3 0 4]\n"
     ]
    }
   ],
   "source": [
    "print(\"np.r_[1:4,0,4] = \\n{}\".format(np.r_[1:4,0,4])) # concatenate along the first axis"
   ]
  },
  {
   "cell_type": "markdown",
   "metadata": {},
   "source": [
    "When used with arrays as arguments, `r_` and `c_` are similar to `vstack` and `hstack` in their default behavior, but allow for an optional argument giving the number of the axis along which to concatenate.\n",
    "\n",
    "## Splitting one array into several smaller ones\n",
    "\n",
    "Using `hsplit`, you can split an array along its horizontal axis, either by specifying the number of equally shaped arrays to return, or by specifying the columns after which the division should occur:"
   ]
  },
  {
   "cell_type": "code",
   "execution_count": 14,
   "metadata": {},
   "outputs": [
    {
     "name": "stdout",
     "output_type": "stream",
     "text": [
      "a = \n",
      "[[7. 0. 8. 1. 4. 7. 8. 1. 1. 8. 1. 2.]\n",
      " [6. 7. 7. 5. 7. 5. 0. 7. 7. 4. 6. 1.]]\n",
      "np.hsplit(a,3) = \n",
      "[array([[7., 0., 8., 1.],\n",
      "       [6., 7., 7., 5.]]), array([[4., 7., 8., 1.],\n",
      "       [7., 5., 0., 7.]]), array([[1., 8., 1., 2.],\n",
      "       [7., 4., 6., 1.]])]\n",
      "np.hsplit(a,(3,4)) = \n",
      "[array([[7., 0., 8.],\n",
      "       [6., 7., 7.]]), array([[1.],\n",
      "       [5.]]), array([[4., 7., 8., 1., 1., 8., 1., 2.],\n",
      "       [7., 5., 0., 7., 7., 4., 6., 1.]])]\n"
     ]
    }
   ],
   "source": [
    "a = np.floor(10 * np.random.random((2,12)))\n",
    "print(\"a = \\n{}\".format(a))\n",
    "\n",
    "# split a into 3\n",
    "print(\"np.hsplit(a,3) = \\n{}\".format(np.hsplit(a,3)))\n",
    "\n",
    "# split a after the third and the fourth column\n",
    "print(\"np.hsplit(a,(3,4)) = \\n{}\".format(np.hsplit(a,(3,4))))"
   ]
  },
  {
   "cell_type": "markdown",
   "metadata": {},
   "source": [
    "`vsplit` splits along the vertical axis, and `array_split` allows one to specify along which axis to split."
   ]
  }
 ],
 "metadata": {
  "kernelspec": {
   "display_name": "cse6363",
   "language": "python",
   "name": "python3"
  },
  "language_info": {
   "codemirror_mode": {
    "name": "ipython",
    "version": 3
   },
   "file_extension": ".py",
   "mimetype": "text/x-python",
   "name": "python",
   "nbconvert_exporter": "python",
   "pygments_lexer": "ipython3",
   "version": "3.11.3"
  },
  "orig_nbformat": 4
 },
 "nbformat": 4,
 "nbformat_minor": 2
}
